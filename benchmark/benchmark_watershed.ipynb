{
 "cells": [
  {
   "cell_type": "markdown",
   "id": "d277a261-bdfb-43ec-85f2-076f56d12d2d",
   "metadata": {},
   "source": [
    "# Benchmark against non-learning based Watershed method\n",
    "\n",
    "- 3D Watershed"
   ]
  },
  {
   "cell_type": "code",
   "execution_count": 123,
   "id": "f5da0d5a-4dfb-4671-99b9-a670efa72b5a",
   "metadata": {},
   "outputs": [],
   "source": [
    "import os\n",
    "import sys\n",
    "import gc\n",
    "import time\n",
    "\n",
    "\n",
    "import h5py\n",
    "import tifffile\n",
    "import napari\n",
    "import numpy as np\n",
    "import pandas as pd\n",
    "\n",
    "import SimpleITK as sitk\n",
    "\n",
    "from skimage.color import label2rgb\n",
    "from skimage.measure import regionprops_table\n",
    "from skimage.filters import gaussian\n",
    "\n",
    "from cellpose import plot as cp_plot"
   ]
  },
  {
   "cell_type": "code",
   "execution_count": 2,
   "id": "6018e854-0e7a-4868-bbba-a2ed64f18659",
   "metadata": {},
   "outputs": [],
   "source": [
    "sys.path.append('..')\n",
    "from cellstitch import evaluation"
   ]
  },
  {
   "cell_type": "code",
   "execution_count": 3,
   "id": "4e870450-fd85-4db5-96c8-daf0ad80c092",
   "metadata": {},
   "outputs": [],
   "source": [
    "import seaborn as sns\n",
    "import matplotlib.pyplot as plt\n",
    "import matplotlib.patches as patches\n",
    "import matplotlib.font_manager\n",
    "\n",
    "from IPython.display import display\n",
    "from matplotlib import rcParams\n",
    "\n",
    "sns.set_style('white')\n",
    "\n",
    "font_list = []\n",
    "fpaths = matplotlib.font_manager.findSystemFonts()\n",
    "for i in fpaths:\n",
    "    try:\n",
    "        f = matplotlib.font_manager.get_font(i)\n",
    "        font_list.append(f.family_name)\n",
    "    except RuntimeError:\n",
    "        pass\n",
    "\n",
    "font_list = set(font_list)\n",
    "plot_font = 'Helvetica' if 'Helvetica' in font_list else 'FreeSans'\n",
    "\n",
    "rcParams['font.family'] = plot_font\n",
    "rcParams.update({'font.size': 15})\n",
    "\n",
    "params = {'mathtext.default': 'regular'}\n",
    "plt.rcParams.update(params)"
   ]
  },
  {
   "cell_type": "markdown",
   "id": "3f5a8188-7a4f-41f4-8444-71b367a6c563",
   "metadata": {},
   "source": [
    "### 3D Watershed\n",
    "\n",
    "Steps:\n",
    "- Preprocesing\n",
    "- Generate seeds w/ H-minima filter\n",
    "- Seeded 3D Watershed w/ SimpleITK\n",
    "\n",
    "Util functions"
   ]
  },
  {
   "cell_type": "code",
   "execution_count": 47,
   "id": "8ef6cb23-df46-44f4-b5e8-fa908f574f1b",
   "metadata": {},
   "outputs": [],
   "source": [
    "def _itk2np(img):\n",
    "    return sitk.GetArrayFromImage(img)\n",
    "\n",
    "def _np2itk(img):\n",
    "    return sitk.GetImageFromArray(img)\n",
    "\n",
    "def _mask_to_rgb(mask):\n",
    "    n_lbls = evaluation.get_num_cells(mask)\n",
    "    colors = np.random.random((n_lbls, 3))\n",
    "    rgb = label2rgb(mask, colors=colors, bg_label=0)\n",
    "    return rgb\n"
   ]
  },
  {
   "cell_type": "code",
   "execution_count": 159,
   "id": "2fa0fc0b-bb9c-4105-9d33-1561bd3fa67f",
   "metadata": {},
   "outputs": [],
   "source": [
    "def get_fg_mask(img_itk, level=4):\n",
    "    \"\"\"\n",
    "    Obtain semantic mask for foreground\n",
    "    \"\"\"\n",
    "    ws_img_itk = sitk.MorphologicalWatershed(\n",
    "        img_itk,\n",
    "        level=level,\n",
    "        markWatershedLine=False,\n",
    "        fullyConnected=False\n",
    "    )\n",
    "    \n",
    "    # Get filled-in semantic object masks\n",
    "    seg = sitk.ConnectedComponent(ws_img_itk != ws_img_itk[0, 0, 0])\n",
    "    filled = sitk.BinaryFillhole(seg != 0)\n",
    "    return filled\n",
    "    \n",
    "    \n",
    "def find_seeds(img_itk, bin_mask, do_roi_filter=True, h_threshold=10):\n",
    "    h_minima = sitk.HMinima(img_itk, height=h_threshold)  # Regional minima\n",
    "    local_minima = _itk2np(img_itk) - _itk2np(h_minima)\n",
    "    if do_roi_filter:\n",
    "        seed_mask = np.logical_and(local_minima < 0, _itk2np(bin_mask) == 1).astype(np.uint8)\n",
    "    else:\n",
    "        seed_mask = (local_minima < 0).astype(np.uint8)\n",
    "    seeds = sitk.ConnectedComponent(_np2itk(seed_mask) > 0)\n",
    "    return seeds\n",
    "\n",
    "\n",
    "def min_vol_filter(pred, min_vol=200):\n",
    "    \"\"\"\n",
    "    Remove FPs with excessively low volume size\n",
    "    \"\"\"\n",
    "    prop_df = pd.DataFrame(regionprops_table(pred, properties=('label', 'area')))\n",
    "    prop_df.set_index('label', append=False, inplace=True)\n",
    "    \n",
    "    labels_to_keep = prop_df[prop_df.area >= min_vol].index\n",
    "    vol_mask = ~np.isin(pred, labels_to_keep)\n",
    "    pred[vol_mask] = 0\n",
    "    \n",
    "    # Relabel remaining labels exceeding the volume threshold\n",
    "    filtered_pred = pred.copy()\n",
    "    for i, lbl in enumerate(labels_to_keep):\n",
    "        filtered_pred[pred == lbl] = i+1\n",
    "    return filtered_pred\n",
    "\n",
    "\n",
    "def watershed_3d(\n",
    "    img_itk,\n",
    "    do_gaussian_blur=True,\n",
    "    sigma=1,\n",
    "    lvl=4,\n",
    "    min_volume=200\n",
    "):\n",
    "    # Gaussian Smoothing & Gradient calculation\n",
    "    img_itk = sitk.GradientMagnitudeRecursiveGaussian(img_itk, sigma=sigma)\n",
    "    \n",
    "    # Get binary Foreground/Background mask\n",
    "    roi_mask = get_fg_mask(img_itk, lvl)\n",
    "    \n",
    "    # Calculate marker seeds\n",
    "    seeds = find_seeds(img_itk, roi_mask)\n",
    "    \n",
    "    # Watershed\n",
    "    ws = sitk.MorphologicalWatershedFromMarkers(\n",
    "        img_itk, seeds, markWatershedLine=True\n",
    "    )\n",
    "    ws = sitk.Mask(ws, roi_mask)\n",
    "    \n",
    "    return ws\n"
   ]
  },
  {
   "cell_type": "markdown",
   "id": "7d24ff3b-8f0f-493c-8103-6db0683ad091",
   "metadata": {},
   "source": [
    "### Ovules "
   ]
  },
  {
   "cell_type": "code",
   "execution_count": 201,
   "id": "8902a8a1-9a2e-4647-b0d1-1a955786a53d",
   "metadata": {},
   "outputs": [],
   "source": [
    "ovules_path = '../data/ovules/test/'\n",
    "\n",
    "fnames = [\n",
    "    f.rpartition('.')[0]\n",
    "    for f in sorted(os.listdir(ovules_path))\n",
    "]\n",
    "\n",
    "imgs = [\n",
    "    h5py.File(os.path.join(ovules_path, f))['raw'][:]\n",
    "    for f in sorted(os.listdir(ovules_path))\n",
    "    if f[-2:] == 'h5'\n",
    "]\n",
    "\n",
    "masks = [\n",
    "    h5py.File(os.path.join(ovules_path, f))['label'][:]\n",
    "    for f in sorted(os.listdir(ovules_path))\n",
    "    if f[-2:] == 'h5'\n",
    "]\n",
    "\n",
    "del ovules_path"
   ]
  },
  {
   "cell_type": "markdown",
   "id": "979a1ecc-0778-4ab0-bd50-c7218ca03ec2",
   "metadata": {},
   "source": [
    "#### Prediction"
   ]
  },
  {
   "cell_type": "code",
   "execution_count": 116,
   "id": "ea237775-1675-4071-943a-08a8ef8990c2",
   "metadata": {},
   "outputs": [
    {
     "data": {
      "image/png": "[encoded data removed]",
      "text/plain": [
       "<Figure size 640x480 with 2 Axes>"
      ]
     },
     "metadata": {},
     "output_type": "display_data"
    }
   ],
   "source": [
    "# Test whole 3D Watershed function on a sample image\n",
    "# img_itk = _np2itk(imgs[0])\n",
    "# ws_sample_itk = _itk2np(watershed_3d(img_itk))   \n",
    "# ws_sample = _min_vol_filter((ws_sample_itk))\n",
    "\n",
    "# plt.figure()\n",
    "# plt.imshow(cp_plot.mask_rgb(ws_sample[160]))\n",
    "# plt.colorbar()\n",
    "# plt.show()"
   ]
  },
  {
   "cell_type": "code",
   "execution_count": null,
   "id": "88df6f48-0573-4a4d-97e9-ecf9f1e06280",
   "metadata": {},
   "outputs": [],
   "source": [
    "# Apply 3D Watershed on Ovules\n",
    "res_path = '../results/ovules/ws3d/'\n",
    "\n",
    "for (img, fname) in zip(imgs, fnames):\n",
    "    print('Predicting on {}...'.format(fname))\n",
    "    ws_pred = _itk2np(watershed_3d(_np2itk(img)))\n",
    "    ws_pred_filtered = min_vol_filter(ws_pred)\n",
    "    np.save(os.path.join(res_path, fname+'.npy'), ws_pred_filtered)\n",
    "    \n",
    "    del ws_pred, ws_pred_filtered\n",
    "    gc.collect()"
   ]
  },
  {
   "cell_type": "markdown",
   "id": "2e334da8-66a9-4125-8691-9199bafe2c64",
   "metadata": {},
   "source": [
    "#### Calculate metrics"
   ]
  },
  {
   "cell_type": "code",
   "execution_count": 9,
   "id": "d9dc5624-37c4-4260-9f20-e8287da6c307",
   "metadata": {},
   "outputs": [],
   "source": [
    "res_path = '../results/ovules/ws3d/'"
   ]
  },
  {
   "cell_type": "code",
   "execution_count": 8,
   "id": "1df158c6-9b34-43c2-b16d-e7018e35bced",
   "metadata": {},
   "outputs": [
    {
     "name": "stdout",
     "output_type": "stream",
     "text": [
      "N_294_final_crop_ds2.npy  N_511_final_crop_ds2.npy  N_593_final_crop_ds2.npy\n",
      "N_435_final_crop_ds2.npy  N_522_final_crop_ds2.npy\n",
      "N_441_final_crop_ds2.npy  N_590_final_crop_ds2.npy\n"
     ]
    }
   ],
   "source": [
    "%ls ../results/ovules/ws3d/"
   ]
  },
  {
   "cell_type": "code",
   "execution_count": 41,
   "id": "aaac771e-290a-45e4-beed-f56b470b3a2c",
   "metadata": {},
   "outputs": [
    {
     "name": "stdout",
     "output_type": "stream",
     "text": [
      "Calculating metrics for N_294_final_crop_ds2...\n",
      "Calculating metrics for N_435_final_crop_ds2...\n",
      "Calculating metrics for N_441_final_crop_ds2...\n",
      "Calculating metrics for N_511_final_crop_ds2...\n",
      "Calculating metrics for N_522_final_crop_ds2...\n",
      "Calculating metrics for N_590_final_crop_ds2...\n",
      "Calculating metrics for N_593_final_crop_ds2...\n"
     ]
    }
   ],
   "source": [
    "metrics = np.zeros((len(fnames), 7))\n",
    "\n",
    "for i, fname in enumerate(fnames):\n",
    "    print('Calculating metrics for {}...'.format(fname))\n",
    "    y_pred = np.load(os.path.join(res_path, fname+'.npy')).astype(np.int64)\n",
    "    y_true = masks[i]\n",
    "    \n",
    "    assert y_pred.shape == y_true.shape, \"Inconsistent shapes btw ground-truth & predictions\"\n",
    "    \n",
    "    ap25 = evaluation.average_precision(y_true, y_pred, 0.25)[0]\n",
    "    ap75 = evaluation.average_precision(y_true, y_pred, 0.75)[0]\n",
    "    ap50, tp, fp, fn = evaluation.average_precision(y_true, y_pred, 0.5)\n",
    "    mAP = np.mean([ap25, ap50, ap75])\n",
    "    prec, recall, f1 = tp/(tp+fp), tp/(tp+fn), tp/(tp+0.5*(fp+fn))\n",
    "    \n",
    "    metrics[i] = [prec, recall, f1, ap25, ap50, ap75, mAP]\n",
    "    gc.collect()\n",
    "    \n",
    "del y_true, y_pred, ap25, ap50, ap75, tp, fp, fn, prec, recall, f1\n"
   ]
  },
  {
   "cell_type": "code",
   "execution_count": 42,
   "id": "f4c85500-f2a9-4073-9206-aa9602cb8a6b",
   "metadata": {},
   "outputs": [
    {
     "data": {
      "text/html": [
       "<div>\n",
       "<style scoped>\n",
       "    .dataframe tbody tr th:only-of-type {\n",
       "        vertical-align: middle;\n",
       "    }\n",
       "\n",
       "    .dataframe tbody tr th {\n",
       "        vertical-align: top;\n",
       "    }\n",
       "\n",
       "    .dataframe thead th {\n",
       "        text-align: right;\n",
       "    }\n",
       "</style>\n",
       "<table border=\"1\" class=\"dataframe\">\n",
       "  <thead>\n",
       "    <tr style=\"text-align: right;\">\n",
       "      <th></th>\n",
       "      <th>prec</th>\n",
       "      <th>recall</th>\n",
       "      <th>f1</th>\n",
       "      <th>AP25</th>\n",
       "      <th>AP50</th>\n",
       "      <th>AP75</th>\n",
       "      <th>mAP</th>\n",
       "    </tr>\n",
       "  </thead>\n",
       "  <tbody>\n",
       "    <tr>\n",
       "      <th>N_294_final_crop_ds2</th>\n",
       "      <td>0.049994</td>\n",
       "      <td>0.110989</td>\n",
       "      <td>0.068936</td>\n",
       "      <td>0.164355</td>\n",
       "      <td>0.035699</td>\n",
       "      <td>0.000177</td>\n",
       "      <td>0.066743</td>\n",
       "    </tr>\n",
       "    <tr>\n",
       "      <th>N_435_final_crop_ds2</th>\n",
       "      <td>0.061308</td>\n",
       "      <td>0.258807</td>\n",
       "      <td>0.099133</td>\n",
       "      <td>0.073301</td>\n",
       "      <td>0.052151</td>\n",
       "      <td>0.000579</td>\n",
       "      <td>0.042011</td>\n",
       "    </tr>\n",
       "    <tr>\n",
       "      <th>N_441_final_crop_ds2</th>\n",
       "      <td>0.117571</td>\n",
       "      <td>0.487214</td>\n",
       "      <td>0.189430</td>\n",
       "      <td>0.144798</td>\n",
       "      <td>0.104624</td>\n",
       "      <td>0.006358</td>\n",
       "      <td>0.085260</td>\n",
       "    </tr>\n",
       "    <tr>\n",
       "      <th>N_511_final_crop_ds2</th>\n",
       "      <td>0.240363</td>\n",
       "      <td>0.332549</td>\n",
       "      <td>0.279039</td>\n",
       "      <td>0.401530</td>\n",
       "      <td>0.162141</td>\n",
       "      <td>0.000000</td>\n",
       "      <td>0.187890</td>\n",
       "    </tr>\n",
       "    <tr>\n",
       "      <th>N_522_final_crop_ds2</th>\n",
       "      <td>0.049032</td>\n",
       "      <td>0.221298</td>\n",
       "      <td>0.080278</td>\n",
       "      <td>0.055652</td>\n",
       "      <td>0.041817</td>\n",
       "      <td>0.000629</td>\n",
       "      <td>0.032699</td>\n",
       "    </tr>\n",
       "    <tr>\n",
       "      <th>N_590_final_crop_ds2</th>\n",
       "      <td>0.000000</td>\n",
       "      <td>0.000000</td>\n",
       "      <td>0.000000</td>\n",
       "      <td>0.004252</td>\n",
       "      <td>0.000000</td>\n",
       "      <td>0.000000</td>\n",
       "      <td>0.001417</td>\n",
       "    </tr>\n",
       "    <tr>\n",
       "      <th>N_593_final_crop_ds2</th>\n",
       "      <td>0.000000</td>\n",
       "      <td>0.000000</td>\n",
       "      <td>0.000000</td>\n",
       "      <td>0.000000</td>\n",
       "      <td>0.000000</td>\n",
       "      <td>0.000000</td>\n",
       "      <td>0.000000</td>\n",
       "    </tr>\n",
       "  </tbody>\n",
       "</table>\n",
       "</div>"
      ],
      "text/plain": [
       "                          prec    recall        f1      AP25      AP50  \\\n",
       "N_294_final_crop_ds2  0.049994  0.110989  0.068936  0.164355  0.035699   \n",
       "N_435_final_crop_ds2  0.061308  0.258807  0.099133  0.073301  0.052151   \n",
       "N_441_final_crop_ds2  0.117571  0.487214  0.189430  0.144798  0.104624   \n",
       "N_511_final_crop_ds2  0.240363  0.332549  0.279039  0.401530  0.162141   \n",
       "N_522_final_crop_ds2  0.049032  0.221298  0.080278  0.055652  0.041817   \n",
       "N_590_final_crop_ds2  0.000000  0.000000  0.000000  0.004252  0.000000   \n",
       "N_593_final_crop_ds2  0.000000  0.000000  0.000000  0.000000  0.000000   \n",
       "\n",
       "                          AP75       mAP  \n",
       "N_294_final_crop_ds2  0.000177  0.066743  \n",
       "N_435_final_crop_ds2  0.000579  0.042011  \n",
       "N_441_final_crop_ds2  0.006358  0.085260  \n",
       "N_511_final_crop_ds2  0.000000  0.187890  \n",
       "N_522_final_crop_ds2  0.000629  0.032699  \n",
       "N_590_final_crop_ds2  0.000000  0.001417  \n",
       "N_593_final_crop_ds2  0.000000  0.000000  "
      ]
     },
     "execution_count": 42,
     "metadata": {},
     "output_type": "execute_result"
    }
   ],
   "source": [
    "metrics_df = pd.DataFrame(metrics, index=fnames, columns=['prec', 'recall', 'f1', 'AP25', 'AP50', 'AP75', 'mAP'])\n",
    "metrics_df"
   ]
  },
  {
   "cell_type": "code",
   "execution_count": 43,
   "id": "485dc11b-009a-4317-87f9-19ce899dafa9",
   "metadata": {},
   "outputs": [
    {
     "data": {
      "text/plain": [
       "prec      0.074038\n",
       "recall    0.201551\n",
       "f1        0.102402\n",
       "AP25      0.120555\n",
       "AP50      0.056633\n",
       "AP75      0.001106\n",
       "mAP       0.059432\n",
       "dtype: float64"
      ]
     },
     "execution_count": 43,
     "metadata": {},
     "output_type": "execute_result"
    }
   ],
   "source": [
    "metrics_df.mean(0)"
   ]
  },
  {
   "cell_type": "code",
   "execution_count": 44,
   "id": "7acea277-7cd9-4e0f-9ffb-72062eaa555b",
   "metadata": {},
   "outputs": [
    {
     "data": {
      "text/plain": [
       "prec      0.083554\n",
       "recall    0.178829\n",
       "f1        0.101133\n",
       "AP25      0.139019\n",
       "AP50      0.058492\n",
       "AP75      0.002332\n",
       "mAP       0.064728\n",
       "dtype: float64"
      ]
     },
     "execution_count": 44,
     "metadata": {},
     "output_type": "execute_result"
    }
   ],
   "source": [
    "metrics_df.std(0)"
   ]
  },
  {
   "cell_type": "code",
   "execution_count": 102,
   "id": "eb465a9e-32f6-4090-955e-91ed8523eb17",
   "metadata": {},
   "outputs": [],
   "source": [
    "metrics_df.to_csv('../results/ovules/watershed.csv', index=True)"
   ]
  },
  {
   "cell_type": "code",
   "execution_count": null,
   "id": "ad2a59ed-14ef-4ad9-9baa-a8880ee74be3",
   "metadata": {},
   "outputs": [],
   "source": [
    "# Visualize example predictions\n",
    "\n",
    "# fname = fnames[-1]\n",
    "# idx = 75\n",
    "# sample_pred = np.load(os.path.join(res_path, fname+'.npy')).astype(np.int64)\n",
    "# sample_pred_slices = _mask_to_rgb(sample_pred[idx-1:idx+2])\n",
    "\n",
    "# fig, (ax1, ax2, ax3) = plt.subplots(3, 1, figsize=(8, 10), dpi=300)\n",
    "# ax1.imshow(sample_pred_slices[0])\n",
    "# ax1.set_xticks([])\n",
    "# ax1.set_yticks([])\n",
    "\n",
    "# ax2.imshow(sample_pred_slices[0])\n",
    "# ax2.set_xticks([])\n",
    "# ax2.set_yticks([])\n",
    "\n",
    "# ax3.imshow(sample_pred_slices[0])\n",
    "# ax3.set_xticks([])\n",
    "# ax3.set_yticks([])\n",
    "\n",
    "# plt.tight_layout()\n",
    "# plt.show()\n"
   ]
  },
  {
   "cell_type": "markdown",
   "id": "fbef4a38-205a-488f-952b-70a35f3a18c9",
   "metadata": {},
   "source": [
    "### ATAS"
   ]
  },
  {
   "cell_type": "code",
   "execution_count": 197,
   "id": "bbac5387-6ae4-4b5a-89ac-6194ad5e132c",
   "metadata": {},
   "outputs": [],
   "source": [
    "atas_path = '../data/ATAS/'\n",
    "atas_test_path = '../results/ATAS/cellpose2d/'  # Load ATAS filenames in test set \n",
    "\n",
    "# Load imgs & masks in the test set\n",
    "fnames = [\n",
    "    f.rpartition('.')[0]\n",
    "    for f in sorted(os.listdir(atas_test_path))\n",
    "    if f[-3:] == 'npy'\n",
    "]\n",
    "\n",
    "imgs = [\n",
    "    np.load(os.path.join(atas_path, 'raw', f+'.npy'))\n",
    "    for f in fnames\n",
    "]\n",
    "\n",
    "masks = [\n",
    "    np.load(os.path.join(atas_path, 'labels', f+'.npy'))\n",
    "    for f in fnames\n",
    "]\n",
    "\n",
    "assert len(imgs) == len(masks) == len(fnames), \"Unequal # imgs & annotated masks in ATAS test set\"\n",
    "del atas_test_path\n"
   ]
  },
  {
   "cell_type": "markdown",
   "id": "c6cd57a5-a975-43eb-b3ee-73207ee480fd",
   "metadata": {},
   "source": [
    "#### Prediction"
   ]
  },
  {
   "cell_type": "code",
   "execution_count": 98,
   "id": "9eea8b2f-ddd7-48f8-a7bc-816d000260f6",
   "metadata": {},
   "outputs": [
    {
     "data": {
      "image/png": "[encoded data removed]",
      "text/plain": [
       "<Figure size 640x480 with 2 Axes>"
      ]
     },
     "metadata": {},
     "output_type": "display_data"
    }
   ],
   "source": [
    "# # Test whole 3D Watershed function on a sample image\n",
    "# img_itk = _np2itk(imgs[0][:5])\n",
    "# ws_sample_itk = _itk2np(watershed_3d(img_itk))   \n",
    "# ws_sample = min_vol_filter((ws_sample_itk))\n",
    "\n",
    "# plt.figure()\n",
    "# plt.imshow(cp_plot.mask_rgb(ws_sample[0]))\n",
    "# plt.colorbar()\n",
    "# plt.show()\n",
    "\n",
    "# del img_itk, ws_sample, ws_sample_itk"
   ]
  },
  {
   "cell_type": "code",
   "execution_count": 100,
   "id": "01aeb242-d76f-4bcd-94c5-09f7c2960577",
   "metadata": {},
   "outputs": [
    {
     "name": "stdout",
     "output_type": "stream",
     "text": [
      "Predicting on 0hrs_plant13_trim-acylYFP...\n",
      "Predicting on 0hrs_plant18_trim-acylYFP...\n",
      "Predicting on 0hrs_plant2_trim-acylYFP...\n",
      "Predicting on 12hrs_plant18_trim-acylYFP...\n",
      "Predicting on 12hrs_plant2_trim-acylYFP...\n",
      "Predicting on 20hrs_plant13_trim-acylYFP...\n",
      "Predicting on 20hrs_plant2_trim-acylYFP...\n",
      "Predicting on 24hrs_plant13_trim-acylYFP...\n",
      "Predicting on 24hrs_plant15_trim-acylYFP...\n",
      "Predicting on 28hrs_plant1_trim-acylYFP...\n",
      "Predicting on 32hrs_plant13_trim-acylYFP...\n",
      "Predicting on 36hrs_plant15_trim-acylYFP...\n",
      "Predicting on 36hrs_plant2_trim-acylYFP...\n",
      "Predicting on 40hrs_plant13_trim-acylYFP...\n",
      "Predicting on 40hrs_plant1_trim-acylYFP...\n",
      "Predicting on 40hrs_plant2_trim-acylYFP...\n",
      "Predicting on 44hrs_plant18_trim-acylYFP...\n",
      "Predicting on 44hrs_plant2_trim-acylYFP...\n",
      "Predicting on 44hrs_plant4_trim-acylYFP...\n",
      "Predicting on 48hrs_plant15_trim-acylYFP...\n",
      "Predicting on 48hrs_plant4_trim-acylYFP...\n",
      "Predicting on 4hrs_plant15_trim-acylYFP...\n",
      "Predicting on 52hrs_plant2_trim-acylYFP...\n",
      "Predicting on 60hrs_plant2_trim-acylYFP...\n",
      "Predicting on 60hrs_plant4_trim-acylYFP...\n",
      "Predicting on 64hrs_plant13_trim-acylYFP...\n",
      "Predicting on 68hrs_plant1_trim-acylYFP...\n",
      "Predicting on 72hrs_plant18_trim-acylYFP...\n",
      "Predicting on 72hrs_plant2_trim-acylYFP...\n",
      "Predicting on 76hrs_plant15_trim-acylYFP...\n",
      "Predicting on 76hrs_plant1_trim-acylYFP...\n",
      "Predicting on 80hrs_plant15_trim-acylYFP...\n",
      "Predicting on 84hrs_plant18_trim-acylYFP...\n",
      "Predicting on 8hrs_plant15_trim-acylYFP...\n",
      "Predicting on 8hrs_plant18_trim-acylYFP...\n",
      "Predicting on 8hrs_plant1_trim-acylYFP...\n",
      "Predicting on 8hrs_plant2_trim-acylYFP...\n"
     ]
    }
   ],
   "source": [
    "# Apply 3D Watershed on ATAS\n",
    "res_path = '../results/ATAS/ws3d/'\n",
    "\n",
    "for (img, fname) in zip(imgs, fnames):\n",
    "    print('Predicting on {}...'.format(fname))\n",
    "    ws_pred = _itk2np(watershed_3d(_np2itk(img)))\n",
    "    ws_pred_filtered = min_vol_filter(ws_pred)\n",
    "    np.save(os.path.join(res_path, fname+'.npy'), ws_pred_filtered)\n",
    "    \n",
    "    del ws_pred, ws_pred_filtered\n",
    "    gc.collect()"
   ]
  },
  {
   "cell_type": "markdown",
   "id": "97fe81bd-a648-4b14-ae99-448191b0f2ec",
   "metadata": {},
   "source": [
    "#### Calculate metrics"
   ]
  },
  {
   "cell_type": "code",
   "execution_count": 105,
   "id": "32ec1996-4573-4812-afef-a78dc3dcffa8",
   "metadata": {},
   "outputs": [
    {
     "name": "stdout",
     "output_type": "stream",
     "text": [
      "Calculating metrics for 0hrs_plant13_trim-acylYFP...\n",
      "Calculating metrics for 0hrs_plant18_trim-acylYFP...\n",
      "Calculating metrics for 0hrs_plant2_trim-acylYFP...\n",
      "Calculating metrics for 12hrs_plant18_trim-acylYFP...\n",
      "Calculating metrics for 12hrs_plant2_trim-acylYFP...\n",
      "Calculating metrics for 20hrs_plant13_trim-acylYFP...\n",
      "Calculating metrics for 20hrs_plant2_trim-acylYFP...\n",
      "Calculating metrics for 24hrs_plant13_trim-acylYFP...\n",
      "Calculating metrics for 24hrs_plant15_trim-acylYFP...\n",
      "Calculating metrics for 28hrs_plant1_trim-acylYFP...\n",
      "Calculating metrics for 32hrs_plant13_trim-acylYFP...\n",
      "Calculating metrics for 36hrs_plant15_trim-acylYFP...\n",
      "Calculating metrics for 36hrs_plant2_trim-acylYFP...\n",
      "Calculating metrics for 40hrs_plant13_trim-acylYFP...\n",
      "Calculating metrics for 40hrs_plant1_trim-acylYFP...\n",
      "Calculating metrics for 40hrs_plant2_trim-acylYFP...\n",
      "Calculating metrics for 44hrs_plant18_trim-acylYFP...\n",
      "Calculating metrics for 44hrs_plant2_trim-acylYFP...\n",
      "Calculating metrics for 44hrs_plant4_trim-acylYFP...\n",
      "Calculating metrics for 48hrs_plant15_trim-acylYFP...\n",
      "Calculating metrics for 48hrs_plant4_trim-acylYFP...\n",
      "Calculating metrics for 4hrs_plant15_trim-acylYFP...\n",
      "Calculating metrics for 52hrs_plant2_trim-acylYFP...\n",
      "Calculating metrics for 60hrs_plant2_trim-acylYFP...\n",
      "Calculating metrics for 60hrs_plant4_trim-acylYFP...\n",
      "Calculating metrics for 64hrs_plant13_trim-acylYFP...\n",
      "Calculating metrics for 68hrs_plant1_trim-acylYFP...\n",
      "Calculating metrics for 72hrs_plant18_trim-acylYFP...\n",
      "Calculating metrics for 72hrs_plant2_trim-acylYFP...\n",
      "Calculating metrics for 76hrs_plant15_trim-acylYFP...\n",
      "Calculating metrics for 76hrs_plant1_trim-acylYFP...\n",
      "Calculating metrics for 80hrs_plant15_trim-acylYFP...\n",
      "Calculating metrics for 84hrs_plant18_trim-acylYFP...\n",
      "Calculating metrics for 8hrs_plant15_trim-acylYFP...\n",
      "Calculating metrics for 8hrs_plant18_trim-acylYFP...\n",
      "Calculating metrics for 8hrs_plant1_trim-acylYFP...\n",
      "Calculating metrics for 8hrs_plant2_trim-acylYFP...\n"
     ]
    }
   ],
   "source": [
    "metrics = np.zeros((len(fnames), 7))\n",
    "\n",
    "for i, fname in enumerate(fnames):\n",
    "    print('Calculating metrics for {}...'.format(fname))\n",
    "    y_pred = np.load(os.path.join(res_path, fname+'.npy')).astype(np.int64)\n",
    "    y_true = masks[i]\n",
    "    \n",
    "    assert y_pred.shape == y_true.shape, \"Inconsistent shapes btw ground-truth & predictions\"\n",
    "    \n",
    "    ap25 = evaluation.average_precision(y_true, y_pred, 0.25)[0]\n",
    "    ap75 = evaluation.average_precision(y_true, y_pred, 0.75)[0]\n",
    "    ap50, tp, fp, fn = evaluation.average_precision(y_true, y_pred, 0.5)\n",
    "    mAP = np.mean([ap25, ap50, ap75])\n",
    "    prec, recall, f1 = tp/(tp+fp), tp/(tp+fn), tp/(tp+0.5*(fp+fn))\n",
    "    \n",
    "    metrics[i] = [prec, recall, f1, ap25, ap50, ap75, mAP]\n",
    "    gc.collect()\n",
    "    \n",
    "del y_true, y_pred, ap25, ap50, ap75, tp, fp, fn, prec, recall, f1\n"
   ]
  },
  {
   "cell_type": "code",
   "execution_count": 106,
   "id": "b7c5b001-0fa5-4d26-81ec-dc4c7527871a",
   "metadata": {},
   "outputs": [
    {
     "data": {
      "text/html": [
       "<div>\n",
       "<style scoped>\n",
       "    .dataframe tbody tr th:only-of-type {\n",
       "        vertical-align: middle;\n",
       "    }\n",
       "\n",
       "    .dataframe tbody tr th {\n",
       "        vertical-align: top;\n",
       "    }\n",
       "\n",
       "    .dataframe thead th {\n",
       "        text-align: right;\n",
       "    }\n",
       "</style>\n",
       "<table border=\"1\" class=\"dataframe\">\n",
       "  <thead>\n",
       "    <tr style=\"text-align: right;\">\n",
       "      <th></th>\n",
       "      <th>prec</th>\n",
       "      <th>recall</th>\n",
       "      <th>f1</th>\n",
       "      <th>AP25</th>\n",
       "      <th>AP50</th>\n",
       "      <th>AP75</th>\n",
       "      <th>mAP</th>\n",
       "    </tr>\n",
       "  </thead>\n",
       "  <tbody>\n",
       "    <tr>\n",
       "      <th>0hrs_plant13_trim-acylYFP</th>\n",
       "      <td>0.247191</td>\n",
       "      <td>0.027295</td>\n",
       "      <td>0.049162</td>\n",
       "      <td>0.105384</td>\n",
       "      <td>0.025200</td>\n",
       "      <td>0.0</td>\n",
       "      <td>0.043528</td>\n",
       "    </tr>\n",
       "    <tr>\n",
       "      <th>0hrs_plant18_trim-acylYFP</th>\n",
       "      <td>0.114943</td>\n",
       "      <td>0.013141</td>\n",
       "      <td>0.023585</td>\n",
       "      <td>0.076372</td>\n",
       "      <td>0.011933</td>\n",
       "      <td>0.0</td>\n",
       "      <td>0.029435</td>\n",
       "    </tr>\n",
       "    <tr>\n",
       "      <th>0hrs_plant2_trim-acylYFP</th>\n",
       "      <td>0.000000</td>\n",
       "      <td>0.000000</td>\n",
       "      <td>0.000000</td>\n",
       "      <td>0.012959</td>\n",
       "      <td>0.000000</td>\n",
       "      <td>0.0</td>\n",
       "      <td>0.004320</td>\n",
       "    </tr>\n",
       "    <tr>\n",
       "      <th>12hrs_plant18_trim-acylYFP</th>\n",
       "      <td>0.100000</td>\n",
       "      <td>0.004950</td>\n",
       "      <td>0.009434</td>\n",
       "      <td>0.016588</td>\n",
       "      <td>0.004739</td>\n",
       "      <td>0.0</td>\n",
       "      <td>0.007109</td>\n",
       "    </tr>\n",
       "    <tr>\n",
       "      <th>12hrs_plant2_trim-acylYFP</th>\n",
       "      <td>0.100000</td>\n",
       "      <td>0.006656</td>\n",
       "      <td>0.012480</td>\n",
       "      <td>0.015699</td>\n",
       "      <td>0.006279</td>\n",
       "      <td>0.0</td>\n",
       "      <td>0.007326</td>\n",
       "    </tr>\n",
       "  </tbody>\n",
       "</table>\n",
       "</div>"
      ],
      "text/plain": [
       "                                prec    recall        f1      AP25      AP50  \\\n",
       "0hrs_plant13_trim-acylYFP   0.247191  0.027295  0.049162  0.105384  0.025200   \n",
       "0hrs_plant18_trim-acylYFP   0.114943  0.013141  0.023585  0.076372  0.011933   \n",
       "0hrs_plant2_trim-acylYFP    0.000000  0.000000  0.000000  0.012959  0.000000   \n",
       "12hrs_plant18_trim-acylYFP  0.100000  0.004950  0.009434  0.016588  0.004739   \n",
       "12hrs_plant2_trim-acylYFP   0.100000  0.006656  0.012480  0.015699  0.006279   \n",
       "\n",
       "                            AP75       mAP  \n",
       "0hrs_plant13_trim-acylYFP    0.0  0.043528  \n",
       "0hrs_plant18_trim-acylYFP    0.0  0.029435  \n",
       "0hrs_plant2_trim-acylYFP     0.0  0.004320  \n",
       "12hrs_plant18_trim-acylYFP   0.0  0.007109  \n",
       "12hrs_plant2_trim-acylYFP    0.0  0.007326  "
      ]
     },
     "execution_count": 106,
     "metadata": {},
     "output_type": "execute_result"
    }
   ],
   "source": [
    "metrics_df = pd.DataFrame(metrics, index=fnames, columns=['prec', 'recall', 'f1', 'AP25', 'AP50', 'AP75', 'mAP'])\n",
    "metrics_df.head()"
   ]
  },
  {
   "cell_type": "code",
   "execution_count": 108,
   "id": "01c7292c-142c-46ce-b4f8-2a5ad2bbe38a",
   "metadata": {},
   "outputs": [
    {
     "data": {
      "text/plain": [
       "prec      0.069438\n",
       "recall    0.006629\n",
       "f1        0.011932\n",
       "AP25      0.041919\n",
       "AP50      0.006063\n",
       "AP75      0.000000\n",
       "mAP       0.015994\n",
       "dtype: float64"
      ]
     },
     "execution_count": 108,
     "metadata": {},
     "output_type": "execute_result"
    }
   ],
   "source": [
    "metrics_df.mean(0)"
   ]
  },
  {
   "cell_type": "code",
   "execution_count": 109,
   "id": "752747c0-5ce8-4acb-b2f2-7a1cd129561e",
   "metadata": {},
   "outputs": [
    {
     "data": {
      "text/plain": [
       "prec      0.076270\n",
       "recall    0.008729\n",
       "f1        0.015511\n",
       "AP25      0.035562\n",
       "AP50      0.007991\n",
       "AP75      0.000000\n",
       "mAP       0.013741\n",
       "dtype: float64"
      ]
     },
     "execution_count": 109,
     "metadata": {},
     "output_type": "execute_result"
    }
   ],
   "source": [
    "metrics_df.std(0)"
   ]
  },
  {
   "cell_type": "code",
   "execution_count": 110,
   "id": "9ac06e37-fcf4-4c27-b095-05d90ac1d8c7",
   "metadata": {},
   "outputs": [],
   "source": [
    "metrics_df.to_csv('../results/ATAS/watershed.csv', index=True)"
   ]
  },
  {
   "cell_type": "markdown",
   "id": "0d77538a-2603-4411-bd2f-7211061a97bc",
   "metadata": {},
   "source": [
    "### Arabidposis Thaliana Atlas \n",
    "(Anther, Filament, Leaf, Pedicel, Sepal, Valve)"
   ]
  },
  {
   "cell_type": "markdown",
   "id": "5591e7f2-1874-45b7-b1ee-97283eb03cf0",
   "metadata": {},
   "source": [
    "#### Prediction"
   ]
  },
  {
   "cell_type": "markdown",
   "id": "f0188af8-8179-462a-9a6b-c827ae2c8aca",
   "metadata": {},
   "source": [
    "TODO: convert img to RGB (0-255)"
   ]
  },
  {
   "cell_type": "code",
   "execution_count": 206,
   "id": "c05dd109-728f-4f5b-a8f8-ed3c45ccf3a3",
   "metadata": {},
   "outputs": [],
   "source": [
    "# Load filenames from each subdirectory\n",
    "\n",
    "plant_atlas_path = '../data/plant_atlas/'\n",
    "regions = ['Anther', 'Filament', 'Leaf', 'Pedicel', 'Sepal', 'Valve']\n",
    "\n",
    "fnames = []\n",
    "imgs = []\n",
    "masks = []\n",
    "\n",
    "for region in regions:\n",
    "    img_path = os.path.join(plant_atlas_path, region)\n",
    "    mask_path = os.path.join(plant_atlas_path, region+'_masks')\n",
    "    \n",
    "    curr_fnames = [\n",
    "        f.rpartition('.')[0]\n",
    "        for f in sorted(os.listdir(img_path))\n",
    "        if f[-3:] == 'tif'\n",
    "    ]\n",
    "    \n",
    "    curr_imgs = [\n",
    "        np.round(tifffile.imread(os.path.join(img_path, f+'.tif'))*255).astype(np.int64)  # Convert to [0-255]\n",
    "        for f in curr_fnames\n",
    "    ]\n",
    "    \n",
    "    curr_masks = [\n",
    "        tifffile.imread(os.path.join(mask_path, f+'.tif')).astype(np.int64)\n",
    "        for f in curr_fnames\n",
    "    ]\n",
    "    \n",
    "    fnames.extend(curr_fnames)\n",
    "    imgs.extend(curr_imgs)\n",
    "    masks.extend(curr_masks)\n",
    "    \n",
    "del region, img_path, mask_path, curr_fnames, curr_imgs, curr_masks"
   ]
  },
  {
   "cell_type": "code",
   "execution_count": 215,
   "id": "f469c113-3a22-47e4-a5bf-41986d17e58b",
   "metadata": {},
   "outputs": [
    {
     "data": {
      "image/png": "[encoded data removed]",
      "text/plain": [
       "<Figure size 640x480 with 2 Axes>"
      ]
     },
     "metadata": {},
     "output_type": "display_data"
    }
   ],
   "source": [
    "# Test whole 3D Watershed function on a sample image\n",
    "# img_itk = _np2itk(imgs[0])\n",
    "# ws_sample_itk = _itk2np(watershed_3d(img_itk))   \n",
    "# ws_sample = min_vol_filter((ws_sample_itk))\n",
    "\n",
    "# plt.figure()\n",
    "# plt.imshow(cp_plot.mask_rgb(ws_sample[10]))\n",
    "# plt.colorbar()\n",
    "# plt.show()"
   ]
  },
  {
   "cell_type": "code",
   "execution_count": 218,
   "id": "007527c1-0591-462c-93bf-55d375e61d01",
   "metadata": {},
   "outputs": [
    {
     "name": "stdout",
     "output_type": "stream",
     "text": [
      "Predicting on Anther_20...\n",
      "Predicting on Anther_21...\n",
      "Predicting on Anther_22...\n",
      "Predicting on Anther_23...\n",
      "Predicting on Anther_24...\n",
      "Predicting on Anther_25...\n",
      "Predicting on Anther_26...\n",
      "Predicting on Anther_27...\n",
      "Predicting on Anther_28...\n",
      "Predicting on Anther_29...\n",
      "Predicting on Anther_30...\n",
      "Predicting on Anther_31...\n",
      "Predicting on Anther_32...\n",
      "Predicting on Anther_33...\n",
      "Predicting on Anther_34...\n",
      "Predicting on Anther_35...\n",
      "Predicting on Anther_36...\n",
      "Predicting on Anther_37...\n",
      "Predicting on Anther_38...\n",
      "Predicting on Anther_39...\n",
      "Predicting on Anther_40...\n",
      "Predicting on Anther_41...\n",
      "Predicting on Anther_42...\n",
      "Predicting on Anther_43...\n",
      "Predicting on Anther_44...\n",
      "Predicting on Anther_45...\n",
      "Predicting on Anther_46...\n",
      "Predicting on Anther_47...\n",
      "Predicting on Anther_48...\n",
      "Predicting on Anther_49...\n",
      "Predicting on Filament_20...\n",
      "Predicting on Filament_21...\n",
      "Predicting on Filament_22...\n",
      "Predicting on Filament_23...\n",
      "Predicting on Filament_24...\n",
      "Predicting on Filament_25...\n",
      "Predicting on Filament_26...\n",
      "Predicting on Filament_27...\n",
      "Predicting on Filament_28...\n",
      "Predicting on Filament_29...\n",
      "Predicting on Filament_30...\n",
      "Predicting on Filament_31...\n",
      "Predicting on Filament_32...\n",
      "Predicting on Filament_33...\n",
      "Predicting on Filament_34...\n",
      "Predicting on Filament_35...\n",
      "Predicting on Filament_36...\n",
      "Predicting on Filament_37...\n",
      "Predicting on Filament_38...\n",
      "Predicting on Filament_39...\n",
      "Predicting on Filament_40...\n",
      "Predicting on Filament_41...\n",
      "Predicting on Filament_42...\n",
      "Predicting on Filament_43...\n",
      "Predicting on Filament_44...\n",
      "Predicting on Filament_45...\n",
      "Predicting on Filament_46...\n",
      "Predicting on Filament_47...\n",
      "Predicting on Filament_48...\n",
      "Predicting on Filament_49...\n",
      "Predicting on Leaf_20...\n",
      "Predicting on Leaf_21...\n",
      "Predicting on Leaf_22...\n",
      "Predicting on Leaf_23...\n",
      "Predicting on Leaf_24...\n",
      "Predicting on Leaf_25...\n",
      "Predicting on Leaf_26...\n",
      "Predicting on Leaf_27...\n",
      "Predicting on Leaf_28...\n",
      "Predicting on Leaf_29...\n",
      "Predicting on Leaf_30...\n",
      "Predicting on Leaf_31...\n",
      "Predicting on Leaf_32...\n",
      "Predicting on Leaf_33...\n",
      "Predicting on Leaf_34...\n",
      "Predicting on Leaf_35...\n",
      "Predicting on Leaf_36...\n",
      "Predicting on Leaf_37...\n",
      "Predicting on Leaf_38...\n",
      "Predicting on Leaf_39...\n",
      "Predicting on Leaf_40...\n",
      "Predicting on Leaf_41...\n",
      "Predicting on Leaf_42...\n",
      "Predicting on Leaf_43...\n",
      "Predicting on Leaf_44...\n",
      "Predicting on Leaf_45...\n",
      "Predicting on Leaf_46...\n",
      "Predicting on Leaf_47...\n",
      "Predicting on Leaf_48...\n",
      "Predicting on Leaf_49...\n",
      "Predicting on Pedicel_20...\n",
      "Predicting on Pedicel_21...\n",
      "Predicting on Pedicel_22...\n",
      "Predicting on Pedicel_23...\n",
      "Predicting on Pedicel_24...\n",
      "Predicting on Pedicel_25...\n",
      "Predicting on Pedicel_26...\n",
      "Predicting on Pedicel_27...\n",
      "Predicting on Pedicel_28...\n",
      "Predicting on Pedicel_29...\n",
      "Predicting on Pedicel_30...\n",
      "Predicting on Pedicel_31...\n",
      "Predicting on Pedicel_32...\n",
      "Predicting on Pedicel_33...\n",
      "Predicting on Pedicel_34...\n",
      "Predicting on Pedicel_35...\n",
      "Predicting on Pedicel_36...\n",
      "Predicting on Pedicel_37...\n",
      "Predicting on Pedicel_38...\n",
      "Predicting on Pedicel_39...\n",
      "Predicting on Pedicel_40...\n",
      "Predicting on Pedicel_41...\n",
      "Predicting on Pedicel_42...\n",
      "Predicting on Pedicel_43...\n",
      "Predicting on Pedicel_44...\n",
      "Predicting on Pedicel_45...\n",
      "Predicting on Pedicel_46...\n",
      "Predicting on Pedicel_47...\n",
      "Predicting on Pedicel_48...\n",
      "Predicting on Pedicel_49...\n",
      "Predicting on Sepal_20...\n",
      "Predicting on Sepal_21...\n",
      "Predicting on Sepal_22...\n",
      "Predicting on Sepal_23...\n",
      "Predicting on Sepal_24...\n",
      "Predicting on Sepal_25...\n",
      "Predicting on Sepal_26...\n",
      "Predicting on Sepal_27...\n",
      "Predicting on Sepal_28...\n",
      "Predicting on Sepal_29...\n",
      "Predicting on Sepal_30...\n",
      "Predicting on Sepal_31...\n",
      "Predicting on Sepal_32...\n",
      "Predicting on Sepal_33...\n",
      "Predicting on Sepal_34...\n",
      "Predicting on Sepal_35...\n",
      "Predicting on Sepal_36...\n",
      "Predicting on Sepal_37...\n",
      "Predicting on Sepal_38...\n",
      "Predicting on Sepal_39...\n",
      "Predicting on Sepal_40...\n",
      "Predicting on Sepal_41...\n",
      "Predicting on Sepal_42...\n",
      "Predicting on Sepal_43...\n",
      "Predicting on Sepal_44...\n",
      "Predicting on Sepal_45...\n",
      "Predicting on Sepal_46...\n",
      "Predicting on Sepal_47...\n",
      "Predicting on Sepal_48...\n",
      "Predicting on Sepal_49...\n",
      "Predicting on Valve_20...\n",
      "Predicting on Valve_21...\n",
      "Predicting on Valve_22...\n",
      "Predicting on Valve_23...\n",
      "Predicting on Valve_24...\n",
      "Predicting on Valve_25...\n",
      "Predicting on Valve_26...\n",
      "Predicting on Valve_27...\n",
      "Predicting on Valve_28...\n",
      "Predicting on Valve_29...\n",
      "Predicting on Valve_30...\n",
      "Predicting on Valve_31...\n",
      "Predicting on Valve_32...\n",
      "Predicting on Valve_33...\n",
      "Predicting on Valve_34...\n",
      "Predicting on Valve_35...\n",
      "Predicting on Valve_36...\n",
      "Predicting on Valve_37...\n",
      "Predicting on Valve_38...\n",
      "Predicting on Valve_39...\n",
      "Predicting on Valve_40...\n",
      "Predicting on Valve_41...\n",
      "Predicting on Valve_42...\n",
      "Predicting on Valve_43...\n",
      "Predicting on Valve_44...\n",
      "Predicting on Valve_45...\n",
      "Predicting on Valve_46...\n",
      "Predicting on Valve_47...\n",
      "Predicting on Valve_48...\n",
      "Predicting on Valve_49...\n"
     ]
    }
   ],
   "source": [
    "# Apply 3D Watershed on Plant Atlas\n",
    "res_path = '../results/Plant_atlas/'\n",
    "\n",
    "for (img, fname) in zip(imgs, fnames):\n",
    "    print('Predicting on {}...'.format(fname))\n",
    "    ws_pred = _itk2np(watershed_3d(_np2itk(img)))\n",
    "    ws_pred_filtered = min_vol_filter(ws_pred)\n",
    "    np.save(os.path.join(res_path, fname+'.npy'), ws_pred_filtered)\n",
    "    \n",
    "    del ws_pred, ws_pred_filtered\n",
    "    gc.collect()"
   ]
  },
  {
   "cell_type": "markdown",
   "id": "a56163d4-2e0d-4cff-8f1a-25201c4d1c71",
   "metadata": {},
   "source": [
    "#### Calculate metrics"
   ]
  },
  {
   "cell_type": "code",
   "execution_count": 219,
   "id": "d8073c17-94d9-437c-98d6-bce67e42892c",
   "metadata": {},
   "outputs": [
    {
     "name": "stdout",
     "output_type": "stream",
     "text": [
      "Calculating metrics for Anther_20...\n",
      "Calculating metrics for Anther_21...\n",
      "Calculating metrics for Anther_22...\n",
      "Calculating metrics for Anther_23...\n",
      "Calculating metrics for Anther_24...\n",
      "Calculating metrics for Anther_25...\n",
      "Calculating metrics for Anther_26...\n",
      "Calculating metrics for Anther_27...\n",
      "Calculating metrics for Anther_28...\n",
      "Calculating metrics for Anther_29...\n",
      "Calculating metrics for Anther_30...\n",
      "Calculating metrics for Anther_31...\n",
      "Calculating metrics for Anther_32...\n",
      "Calculating metrics for Anther_33...\n",
      "Calculating metrics for Anther_34...\n",
      "Calculating metrics for Anther_35...\n",
      "Calculating metrics for Anther_36...\n",
      "Calculating metrics for Anther_37...\n",
      "Calculating metrics for Anther_38...\n",
      "Calculating metrics for Anther_39...\n",
      "Calculating metrics for Anther_40...\n",
      "Calculating metrics for Anther_41...\n",
      "Calculating metrics for Anther_42...\n",
      "Calculating metrics for Anther_43...\n",
      "Calculating metrics for Anther_44...\n",
      "Calculating metrics for Anther_45...\n",
      "Calculating metrics for Anther_46...\n",
      "Calculating metrics for Anther_47...\n",
      "Calculating metrics for Anther_48...\n",
      "Calculating metrics for Anther_49...\n",
      "Calculating metrics for Filament_20...\n",
      "Calculating metrics for Filament_21...\n",
      "Calculating metrics for Filament_22...\n",
      "Calculating metrics for Filament_23...\n",
      "Calculating metrics for Filament_24...\n",
      "Calculating metrics for Filament_25...\n",
      "Calculating metrics for Filament_26...\n",
      "Calculating metrics for Filament_27...\n",
      "Calculating metrics for Filament_28...\n",
      "Calculating metrics for Filament_29...\n",
      "Calculating metrics for Filament_30...\n",
      "Calculating metrics for Filament_31...\n",
      "Calculating metrics for Filament_32...\n",
      "Calculating metrics for Filament_33...\n",
      "Calculating metrics for Filament_34...\n",
      "Calculating metrics for Filament_35...\n",
      "Calculating metrics for Filament_36...\n",
      "Calculating metrics for Filament_37...\n",
      "Calculating metrics for Filament_38...\n",
      "Calculating metrics for Filament_39...\n",
      "Calculating metrics for Filament_40...\n",
      "Calculating metrics for Filament_41...\n",
      "Calculating metrics for Filament_42...\n",
      "Calculating metrics for Filament_43...\n",
      "Calculating metrics for Filament_44...\n",
      "Calculating metrics for Filament_45...\n",
      "Calculating metrics for Filament_46...\n",
      "Calculating metrics for Filament_47...\n",
      "Calculating metrics for Filament_48...\n",
      "Calculating metrics for Filament_49...\n",
      "Calculating metrics for Leaf_20...\n",
      "Calculating metrics for Leaf_21...\n",
      "Calculating metrics for Leaf_22...\n",
      "Calculating metrics for Leaf_23...\n",
      "Calculating metrics for Leaf_24...\n",
      "Calculating metrics for Leaf_25...\n",
      "Calculating metrics for Leaf_26...\n",
      "Calculating metrics for Leaf_27...\n",
      "Calculating metrics for Leaf_28...\n",
      "Calculating metrics for Leaf_29...\n",
      "Calculating metrics for Leaf_30...\n",
      "Calculating metrics for Leaf_31...\n",
      "Calculating metrics for Leaf_32...\n",
      "Calculating metrics for Leaf_33...\n",
      "Calculating metrics for Leaf_34...\n",
      "Calculating metrics for Leaf_35...\n",
      "Calculating metrics for Leaf_36...\n",
      "Calculating metrics for Leaf_37...\n",
      "Calculating metrics for Leaf_38...\n",
      "Calculating metrics for Leaf_39...\n",
      "Calculating metrics for Leaf_40...\n",
      "Calculating metrics for Leaf_41...\n",
      "Calculating metrics for Leaf_42...\n",
      "Calculating metrics for Leaf_43...\n",
      "Calculating metrics for Leaf_44...\n",
      "Calculating metrics for Leaf_45...\n",
      "Calculating metrics for Leaf_46...\n",
      "Calculating metrics for Leaf_47...\n",
      "Calculating metrics for Leaf_48...\n",
      "Calculating metrics for Leaf_49...\n",
      "Calculating metrics for Pedicel_20...\n",
      "Calculating metrics for Pedicel_21...\n",
      "Calculating metrics for Pedicel_22...\n",
      "Calculating metrics for Pedicel_23...\n",
      "Calculating metrics for Pedicel_24...\n",
      "Calculating metrics for Pedicel_25...\n",
      "Calculating metrics for Pedicel_26...\n",
      "Calculating metrics for Pedicel_27...\n",
      "Calculating metrics for Pedicel_28...\n",
      "Calculating metrics for Pedicel_29...\n",
      "Calculating metrics for Pedicel_30...\n",
      "Calculating metrics for Pedicel_31...\n",
      "Calculating metrics for Pedicel_32...\n",
      "Calculating metrics for Pedicel_33...\n",
      "Calculating metrics for Pedicel_34...\n",
      "Calculating metrics for Pedicel_35...\n",
      "Calculating metrics for Pedicel_36...\n",
      "Calculating metrics for Pedicel_37...\n",
      "Calculating metrics for Pedicel_38...\n",
      "Calculating metrics for Pedicel_39...\n",
      "Calculating metrics for Pedicel_40...\n",
      "Calculating metrics for Pedicel_41...\n",
      "Calculating metrics for Pedicel_42...\n",
      "Calculating metrics for Pedicel_43...\n",
      "Calculating metrics for Pedicel_44...\n",
      "Calculating metrics for Pedicel_45...\n",
      "Calculating metrics for Pedicel_46...\n",
      "Calculating metrics for Pedicel_47...\n",
      "Calculating metrics for Pedicel_48...\n",
      "Calculating metrics for Pedicel_49...\n",
      "Calculating metrics for Sepal_20...\n",
      "Calculating metrics for Sepal_21...\n",
      "Calculating metrics for Sepal_22...\n",
      "Calculating metrics for Sepal_23...\n",
      "Calculating metrics for Sepal_24...\n",
      "Calculating metrics for Sepal_25...\n",
      "Calculating metrics for Sepal_26...\n",
      "Calculating metrics for Sepal_27...\n",
      "Calculating metrics for Sepal_28...\n",
      "Calculating metrics for Sepal_29...\n",
      "Calculating metrics for Sepal_30...\n",
      "Calculating metrics for Sepal_31...\n",
      "Calculating metrics for Sepal_32...\n",
      "Calculating metrics for Sepal_33...\n",
      "Calculating metrics for Sepal_34...\n",
      "Calculating metrics for Sepal_35...\n",
      "Calculating metrics for Sepal_36...\n",
      "Calculating metrics for Sepal_37...\n",
      "Calculating metrics for Sepal_38...\n",
      "Calculating metrics for Sepal_39...\n",
      "Calculating metrics for Sepal_40...\n",
      "Calculating metrics for Sepal_41...\n",
      "Calculating metrics for Sepal_42...\n",
      "Calculating metrics for Sepal_43...\n",
      "Calculating metrics for Sepal_44...\n",
      "Calculating metrics for Sepal_45...\n",
      "Calculating metrics for Sepal_46...\n",
      "Calculating metrics for Sepal_47...\n",
      "Calculating metrics for Sepal_48...\n",
      "Calculating metrics for Sepal_49...\n",
      "Calculating metrics for Valve_20...\n",
      "Calculating metrics for Valve_21...\n",
      "Calculating metrics for Valve_22...\n",
      "Calculating metrics for Valve_23...\n",
      "Calculating metrics for Valve_24...\n",
      "Calculating metrics for Valve_25...\n",
      "Calculating metrics for Valve_26...\n",
      "Calculating metrics for Valve_27...\n",
      "Calculating metrics for Valve_28...\n",
      "Calculating metrics for Valve_29...\n",
      "Calculating metrics for Valve_30...\n",
      "Calculating metrics for Valve_31...\n",
      "Calculating metrics for Valve_32...\n",
      "Calculating metrics for Valve_33...\n",
      "Calculating metrics for Valve_34...\n",
      "Calculating metrics for Valve_35...\n",
      "Calculating metrics for Valve_36...\n",
      "Calculating metrics for Valve_37...\n",
      "Calculating metrics for Valve_38...\n",
      "Calculating metrics for Valve_39...\n",
      "Calculating metrics for Valve_40...\n",
      "Calculating metrics for Valve_41...\n",
      "Calculating metrics for Valve_42...\n",
      "Calculating metrics for Valve_43...\n",
      "Calculating metrics for Valve_44...\n",
      "Calculating metrics for Valve_45...\n",
      "Calculating metrics for Valve_46...\n",
      "Calculating metrics for Valve_47...\n",
      "Calculating metrics for Valve_48...\n",
      "Calculating metrics for Valve_49...\n"
     ]
    }
   ],
   "source": [
    "res_path = '../results/Plant_atlas/'\n",
    "metrics = np.zeros((len(fnames), 7))\n",
    "\n",
    "for i, fname in enumerate(fnames):\n",
    "    print('Calculating metrics for {}...'.format(fname))\n",
    "    y_pred = np.load(os.path.join(res_path, fname+'.npy')).astype(np.int64)\n",
    "    y_true = masks[i]\n",
    "    \n",
    "    assert y_pred.shape == y_true.shape, \"Inconsistent shapes btw ground-truth & predictions\"\n",
    "    \n",
    "    ap25 = evaluation.average_precision(y_true, y_pred, 0.25)[0]\n",
    "    ap75 = evaluation.average_precision(y_true, y_pred, 0.75)[0]\n",
    "    ap50, tp, fp, fn = evaluation.average_precision(y_true, y_pred, 0.5)\n",
    "    mAP = np.mean([ap25, ap50, ap75])\n",
    "    prec, recall, f1 = tp/(tp+fp), tp/(tp+fn), tp/(tp+0.5*(fp+fn))\n",
    "    \n",
    "    metrics[i] = [prec, recall, f1, ap25, ap50, ap75, mAP]\n",
    "    gc.collect()\n",
    "    \n",
    "del y_true, y_pred, ap25, ap50, ap75, tp, fp, fn, prec, recall, f1"
   ]
  },
  {
   "cell_type": "code",
   "execution_count": 220,
   "id": "a5b10e9b-d7da-47a2-ba31-6b5013d950e4",
   "metadata": {},
   "outputs": [],
   "source": [
    "metrics_df = pd.DataFrame(metrics, index=fnames, columns=['prec', 'recall', 'f1', 'AP25', 'AP50', 'AP75', 'mAP'])"
   ]
  },
  {
   "cell_type": "code",
   "execution_count": 224,
   "id": "8b8b1541-6577-47a7-a734-f2de2a8294a4",
   "metadata": {},
   "outputs": [
    {
     "name": "stdout",
     "output_type": "stream",
     "text": [
      "Metrics for Anther:\n",
      "===============\n",
      "Mean:\n"
     ]
    },
    {
     "data": {
      "text/plain": [
       "prec      0.027262\n",
       "recall    0.031384\n",
       "f1        0.028056\n",
       "AP25      0.066428\n",
       "AP50      0.014662\n",
       "AP75      0.000866\n",
       "mAP       0.027319\n",
       "dtype: float64"
      ]
     },
     "metadata": {},
     "output_type": "display_data"
    },
    {
     "name": "stdout",
     "output_type": "stream",
     "text": [
      "\n",
      "Std:\n"
     ]
    },
    {
     "data": {
      "text/plain": [
       "prec      0.038752\n",
       "recall    0.048375\n",
       "f1        0.040886\n",
       "AP25      0.062605\n",
       "AP50      0.021669\n",
       "AP75      0.004742\n",
       "mAP       0.026577\n",
       "dtype: float64"
      ]
     },
     "metadata": {},
     "output_type": "display_data"
    },
    {
     "name": "stdout",
     "output_type": "stream",
     "text": [
      "\n",
      "\n",
      "\n",
      "Metrics for Filament:\n",
      "===============\n",
      "Mean:\n"
     ]
    },
    {
     "data": {
      "text/plain": [
       "prec      0.044927\n",
       "recall    0.147558\n",
       "f1        0.068334\n",
       "AP25      0.114162\n",
       "AP50      0.035699\n",
       "AP75      0.000000\n",
       "mAP       0.049953\n",
       "dtype: float64"
      ]
     },
     "metadata": {},
     "output_type": "display_data"
    },
    {
     "name": "stdout",
     "output_type": "stream",
     "text": [
      "\n",
      "Std:\n"
     ]
    },
    {
     "data": {
      "text/plain": [
       "prec      0.021684\n",
       "recall    0.088619\n",
       "f1        0.034547\n",
       "AP25      0.030445\n",
       "AP50      0.018710\n",
       "AP75      0.000000\n",
       "mAP       0.014220\n",
       "dtype: float64"
      ]
     },
     "metadata": {},
     "output_type": "display_data"
    },
    {
     "name": "stdout",
     "output_type": "stream",
     "text": [
      "\n",
      "\n",
      "\n",
      "Metrics for Leaf:\n",
      "===============\n",
      "Mean:\n"
     ]
    },
    {
     "data": {
      "text/plain": [
       "prec      0.000000\n",
       "recall    0.000000\n",
       "f1        0.000000\n",
       "AP25      0.000267\n",
       "AP50      0.000000\n",
       "AP75      0.000000\n",
       "mAP       0.000089\n",
       "dtype: float64"
      ]
     },
     "metadata": {},
     "output_type": "display_data"
    },
    {
     "name": "stdout",
     "output_type": "stream",
     "text": [
      "\n",
      "Std:\n"
     ]
    },
    {
     "data": {
      "text/plain": [
       "prec      0.000000\n",
       "recall    0.000000\n",
       "f1        0.000000\n",
       "AP25      0.000817\n",
       "AP50      0.000000\n",
       "AP75      0.000000\n",
       "mAP       0.000272\n",
       "dtype: float64"
      ]
     },
     "metadata": {},
     "output_type": "display_data"
    },
    {
     "name": "stdout",
     "output_type": "stream",
     "text": [
      "\n",
      "\n",
      "\n",
      "Metrics for Pedicel:\n",
      "===============\n",
      "Mean:\n"
     ]
    },
    {
     "data": {
      "text/plain": [
       "prec      0.026216\n",
       "recall    0.041628\n",
       "f1        0.030597\n",
       "AP25      0.055910\n",
       "AP50      0.015809\n",
       "AP75      0.001597\n",
       "mAP       0.024439\n",
       "dtype: float64"
      ]
     },
     "metadata": {},
     "output_type": "display_data"
    },
    {
     "name": "stdout",
     "output_type": "stream",
     "text": [
      "\n",
      "Std:\n"
     ]
    },
    {
     "data": {
      "text/plain": [
       "prec      0.027163\n",
       "recall    0.047300\n",
       "f1        0.032568\n",
       "AP25      0.039400\n",
       "AP50      0.017069\n",
       "AP75      0.004203\n",
       "mAP       0.018802\n",
       "dtype: float64"
      ]
     },
     "metadata": {},
     "output_type": "display_data"
    },
    {
     "name": "stdout",
     "output_type": "stream",
     "text": [
      "\n",
      "\n",
      "\n",
      "Metrics for Sepal:\n",
      "===============\n",
      "Mean:\n"
     ]
    },
    {
     "data": {
      "text/plain": [
       "prec      0.028810\n",
       "recall    0.021133\n",
       "f1        0.022864\n",
       "AP25      0.034793\n",
       "AP50      0.012056\n",
       "AP75      0.000000\n",
       "mAP       0.015616\n",
       "dtype: float64"
      ]
     },
     "metadata": {},
     "output_type": "display_data"
    },
    {
     "name": "stdout",
     "output_type": "stream",
     "text": [
      "\n",
      "Std:\n"
     ]
    },
    {
     "data": {
      "text/plain": [
       "prec      0.047764\n",
       "recall    0.044223\n",
       "f1        0.043280\n",
       "AP25      0.041342\n",
       "AP50      0.023273\n",
       "AP75      0.000000\n",
       "mAP       0.020579\n",
       "dtype: float64"
      ]
     },
     "metadata": {},
     "output_type": "display_data"
    },
    {
     "name": "stdout",
     "output_type": "stream",
     "text": [
      "\n",
      "\n",
      "\n",
      "Metrics for Valve:\n",
      "===============\n",
      "Mean:\n"
     ]
    },
    {
     "data": {
      "text/plain": [
       "prec      0.000000\n",
       "recall    0.000000\n",
       "f1        0.000000\n",
       "AP25      0.008253\n",
       "AP50      0.000000\n",
       "AP75      0.000000\n",
       "mAP       0.002751\n",
       "dtype: float64"
      ]
     },
     "metadata": {},
     "output_type": "display_data"
    },
    {
     "name": "stdout",
     "output_type": "stream",
     "text": [
      "\n",
      "Std:\n"
     ]
    },
    {
     "data": {
      "text/plain": [
       "prec      0.000000\n",
       "recall    0.000000\n",
       "f1        0.000000\n",
       "AP25      0.004788\n",
       "AP50      0.000000\n",
       "AP75      0.000000\n",
       "mAP       0.001596\n",
       "dtype: float64"
      ]
     },
     "metadata": {},
     "output_type": "display_data"
    },
    {
     "name": "stdout",
     "output_type": "stream",
     "text": [
      "\n",
      "\n",
      "\n"
     ]
    }
   ],
   "source": [
    "# metrics_df = pd.DataFrame(metrics, index=fnames, columns=['prec', 'recall', 'f1', 'AP25', 'AP50', 'AP75', 'mAP'])\n",
    "for region in regions:\n",
    "    print('Metrics for {}:'.format(region))\n",
    "    print('===============')\n",
    "    region_metrics_df = metrics_df[metrics_df.index.str.contains(region)]\n",
    "    \n",
    "    print('Mean:')\n",
    "    display(region_metrics_df.mean(0))\n",
    "    print('\\nStd:')\n",
    "    display(region_metrics_df.std(0))\n",
    "    print('\\n\\n')\n",
    "    \n",
    "del region, region_metrics_df"
   ]
  },
  {
   "cell_type": "markdown",
   "id": "aa5b2923-1613-48f6-b027-8a57315c11e9",
   "metadata": {},
   "source": [
    "---"
   ]
  }
 ],
 "metadata": {
  "kernelspec": {
   "display_name": "Python 3 (ipykernel)",
   "language": "python",
   "name": "python3"
  },
  "language_info": {
   "codemirror_mode": {
    "name": "ipython",
    "version": 3
   },
   "file_extension": ".py",
   "mimetype": "text/x-python",
   "name": "python",
   "nbconvert_exporter": "python",
   "pygments_lexer": "ipython3",
   "version": "3.8.3"
  }
 },
 "nbformat": 4,
 "nbformat_minor": 5
}
