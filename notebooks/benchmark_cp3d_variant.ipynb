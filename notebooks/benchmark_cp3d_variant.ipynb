{
 "cells": [
  {
   "cell_type": "markdown",
   "id": "f1ddabeb-8726-46c2-91b1-ae7b4191fc1f",
   "metadata": {},
   "source": [
    "## Benchmark Cellpose3D on Ovules / ATAS / A.T. atlas datasets"
   ]
  },
  {
   "cell_type": "code",
   "execution_count": 10,
   "id": "3789b668-e2f3-4ff5-8a2a-1c87eba9cc17",
   "metadata": {},
   "outputs": [],
   "source": [
    "import os\n",
    "import gc\n",
    "import sys\n",
    "import h5py\n",
    "import tifffile\n",
    "\n",
    "import numpy as np\n",
    "import pandas as pd\n",
    "import matplotlib.pyplot as plt\n",
    "import seaborn as sns"
   ]
  },
  {
   "cell_type": "code",
   "execution_count": 11,
   "id": "d429f1a1-fe2b-4f8b-b442-6c2767a2765c",
   "metadata": {},
   "outputs": [],
   "source": [
    "import matplotlib.font_manager\n",
    "from matplotlib import rcParams\n",
    "from IPython.display import display\n",
    "\n",
    "font_list = []\n",
    "fpaths = matplotlib.font_manager.findSystemFonts()\n",
    "for i in fpaths:\n",
    "    try:\n",
    "        f = matplotlib.font_manager.get_font(i)\n",
    "        font_list.append(f.family_name)\n",
    "    except RuntimeError:\n",
    "        pass\n",
    "\n",
    "font_list = set(font_list)\n",
    "plot_font = 'Helvetica' if 'Helvetica' in font_list else 'FreeSans'\n",
    "\n",
    "rcParams['font.family'] = plot_font\n",
    "rcParams.update({'font.size': 10})"
   ]
  },
  {
   "cell_type": "code",
   "execution_count": 12,
   "id": "1640a14f-415a-494c-b14f-61a69d83db93",
   "metadata": {},
   "outputs": [],
   "source": [
    "sys.path.append('../')\n",
    "\n",
    "from cellstitch import evaluation\n",
    "from utils import h5_converter, csv_generator"
   ]
  },
  {
   "cell_type": "markdown",
   "id": "6aab87af-36b4-4680-800e-fafd39605fd8",
   "metadata": {},
   "source": [
    "### Prepare image dataset"
   ]
  },
  {
   "cell_type": "markdown",
   "id": "04dc4dbe-dd5c-450d-9ff0-4db5d739f5f6",
   "metadata": {},
   "source": [
    "**Ovules**"
   ]
  },
  {
   "cell_type": "code",
   "execution_count": 4,
   "id": "09ac2850-8963-401e-a183-f0c3cd32aa01",
   "metadata": {},
   "outputs": [],
   "source": [
    "ovules_path = '../data/ovules/test/'\n",
    "ovules_output_path = 'data/ovules'\n",
    "ovules_res_path = 'results/ovules'\n",
    "\n",
    "# if not os.path.exists(ovules_output_path):\n",
    "#     os.makedirs(ovules_output_path, exist_ok=True)\n",
    "\n",
    "fnames = [\n",
    "    f.rpartition('.')[0]\n",
    "    for f in sorted(os.listdir(ovules_path))\n",
    "]\n",
    "\n",
    "imgs = [\n",
    "    h5py.File(os.path.join(ovules_path, f))['raw'][:]\n",
    "    for f in sorted(os.listdir(ovules_path))\n",
    "    if f[-2:] == 'h5'\n",
    "]\n",
    "\n",
    "masks = [\n",
    "    h5py.File(os.path.join(ovules_path, f))['label'][:]\n",
    "    for f in sorted(os.listdir(ovules_path))\n",
    "]\n",
    "\n",
    "# for (f, img) in zip(fnames, imgs):\n",
    "#     tifffile.imwrite(os.path.join(ovules_output_path, f+'.tif'), img)\n",
    "    \n",
    "del ovules_path"
   ]
  },
  {
   "cell_type": "code",
   "execution_count": null,
   "id": "19af3e4e-f0da-40f1-96b0-beb2262e9c34",
   "metadata": {},
   "outputs": [
    {
     "name": "stdout",
     "output_type": "stream",
     "text": [
      "[11:48:52] Processing image 1/7 in \"\"\n",
      "[11:49:16] Processing image 2/7 in \"\"\n",
      "[11:49:28] Processing image 3/7 in \"\"\n",
      "[11:49:33] Processing image 4/7 in \"\"\n",
      "[11:49:52] Processing image 5/7 in \"\"\n",
      "[11:49:57] Processing image 6/7 in \"\"\n",
      "[11:50:12] Processing image 7/7 in \"\"\n"
     ]
    }
   ],
   "source": [
    "# Prepare output h5 file for Cellpose3D\n",
    "h5_converter.prepare_images(data_path=ovules_output_path)"
   ]
  },
  {
   "cell_type": "code",
   "execution_count": 9,
   "id": "f25e19e3-b0b0-4834-9a61-b30088830278",
   "metadata": {},
   "outputs": [],
   "source": [
    "# Generate filename list .csv\n",
    "with open('files_test.csv', 'w') as ofile:\n",
    "    for filename in fnames:\n",
    "        ofile.write(filename+'.tif;\\n')\n",
    "        "
   ]
  },
  {
   "cell_type": "markdown",
   "id": "3ea6abac-f699-47a7-be94-317840e959c1",
   "metadata": {},
   "source": [
    "**Calculate metrics**"
   ]
  },
  {
   "cell_type": "code",
   "execution_count": 21,
   "id": "a0d43d08-d671-4556-97fd-d0fd03ba51de",
   "metadata": {},
   "outputs": [
    {
     "name": "stdout",
     "output_type": "stream",
     "text": [
      "Calculating metrics for N_294_final_crop_ds2...\n",
      "Calculating metrics for N_435_final_crop_ds2...\n",
      "Calculating metrics for N_441_final_crop_ds2...\n",
      "Calculating metrics for N_511_final_crop_ds2...\n",
      "Calculating metrics for N_522_final_crop_ds2...\n",
      "Calculating metrics for N_590_final_crop_ds2...\n",
      "Calculating metrics for N_593_final_crop_ds2...\n"
     ]
    }
   ],
   "source": [
    "metrics = np.zeros((len(fnames), 7))\n",
    "\n",
    "for i, fname in enumerate(fnames):\n",
    "    print('Calculating metrics for {}...'.format(fname))\n",
    "    y_pred = tifffile.imread(os.path.join(ovules_res_path, 'instances_' + fname+'.tif')).astype(np.int64)\n",
    "    y_true = masks[i]\n",
    "    \n",
    "    assert y_pred.shape == y_true.shape, \"Inconsistent shapes btw ground-truth & predictions\"\n",
    "    \n",
    "    ap25 = evaluation.average_precision(y_true, y_pred, 0.25)[0]\n",
    "    ap75 = evaluation.average_precision(y_true, y_pred, 0.75)[0]\n",
    "    ap50, tp, fp, fn = evaluation.average_precision(y_true, y_pred, 0.5)\n",
    "    mAP = np.mean([ap25, ap50, ap75])\n",
    "    prec, recall, f1 = tp/(tp+fp), tp/(tp+fn), tp/(tp+0.5*(fp+fn))\n",
    "    \n",
    "    metrics[i] = [prec, recall, f1, ap25, ap50, ap75, mAP]\n",
    "    gc.collect()\n",
    "    \n",
    "del y_true, y_pred, ap25, ap50, ap75, tp, fp, fn, prec, recall, f1\n"
   ]
  },
  {
   "cell_type": "code",
   "execution_count": 22,
   "id": "44ddabf9-5d03-4459-834b-02abbb565c90",
   "metadata": {},
   "outputs": [
    {
     "data": {
      "text/html": [
       "<div>\n",
       "<style scoped>\n",
       "    .dataframe tbody tr th:only-of-type {\n",
       "        vertical-align: middle;\n",
       "    }\n",
       "\n",
       "    .dataframe tbody tr th {\n",
       "        vertical-align: top;\n",
       "    }\n",
       "\n",
       "    .dataframe thead th {\n",
       "        text-align: right;\n",
       "    }\n",
       "</style>\n",
       "<table border=\"1\" class=\"dataframe\">\n",
       "  <thead>\n",
       "    <tr style=\"text-align: right;\">\n",
       "      <th></th>\n",
       "      <th>prec</th>\n",
       "      <th>recall</th>\n",
       "      <th>f1</th>\n",
       "      <th>AP25</th>\n",
       "      <th>AP50</th>\n",
       "      <th>AP75</th>\n",
       "      <th>mAP</th>\n",
       "    </tr>\n",
       "  </thead>\n",
       "  <tbody>\n",
       "    <tr>\n",
       "      <th>N_294_final_crop_ds2</th>\n",
       "      <td>0.787058</td>\n",
       "      <td>0.890789</td>\n",
       "      <td>0.835717</td>\n",
       "      <td>0.772390</td>\n",
       "      <td>0.717795</td>\n",
       "      <td>0.627064</td>\n",
       "      <td>0.705750</td>\n",
       "    </tr>\n",
       "    <tr>\n",
       "      <th>N_435_final_crop_ds2</th>\n",
       "      <td>0.683903</td>\n",
       "      <td>0.956934</td>\n",
       "      <td>0.797702</td>\n",
       "      <td>0.758435</td>\n",
       "      <td>0.663482</td>\n",
       "      <td>0.566736</td>\n",
       "      <td>0.662884</td>\n",
       "    </tr>\n",
       "    <tr>\n",
       "      <th>N_441_final_crop_ds2</th>\n",
       "      <td>0.509467</td>\n",
       "      <td>0.946085</td>\n",
       "      <td>0.662291</td>\n",
       "      <td>0.555937</td>\n",
       "      <td>0.495093</td>\n",
       "      <td>0.439647</td>\n",
       "      <td>0.496892</td>\n",
       "    </tr>\n",
       "    <tr>\n",
       "      <th>N_511_final_crop_ds2</th>\n",
       "      <td>0.695815</td>\n",
       "      <td>0.933801</td>\n",
       "      <td>0.797430</td>\n",
       "      <td>0.740741</td>\n",
       "      <td>0.663105</td>\n",
       "      <td>0.597578</td>\n",
       "      <td>0.667142</td>\n",
       "    </tr>\n",
       "    <tr>\n",
       "      <th>N_522_final_crop_ds2</th>\n",
       "      <td>0.593947</td>\n",
       "      <td>0.962136</td>\n",
       "      <td>0.734482</td>\n",
       "      <td>0.638360</td>\n",
       "      <td>0.580381</td>\n",
       "      <td>0.522987</td>\n",
       "      <td>0.580576</td>\n",
       "    </tr>\n",
       "  </tbody>\n",
       "</table>\n",
       "</div>"
      ],
      "text/plain": [
       "                          prec    recall        f1      AP25      AP50  \\\n",
       "N_294_final_crop_ds2  0.787058  0.890789  0.835717  0.772390  0.717795   \n",
       "N_435_final_crop_ds2  0.683903  0.956934  0.797702  0.758435  0.663482   \n",
       "N_441_final_crop_ds2  0.509467  0.946085  0.662291  0.555937  0.495093   \n",
       "N_511_final_crop_ds2  0.695815  0.933801  0.797430  0.740741  0.663105   \n",
       "N_522_final_crop_ds2  0.593947  0.962136  0.734482  0.638360  0.580381   \n",
       "\n",
       "                          AP75       mAP  \n",
       "N_294_final_crop_ds2  0.627064  0.705750  \n",
       "N_435_final_crop_ds2  0.566736  0.662884  \n",
       "N_441_final_crop_ds2  0.439647  0.496892  \n",
       "N_511_final_crop_ds2  0.597578  0.667142  \n",
       "N_522_final_crop_ds2  0.522987  0.580576  "
      ]
     },
     "execution_count": 22,
     "metadata": {},
     "output_type": "execute_result"
    }
   ],
   "source": [
    "metrics_df = pd.DataFrame(metrics, index=fnames, columns=['prec', 'recall', 'f1', 'AP25', 'AP50', 'AP75', 'mAP'])\n",
    "metrics_df.head()"
   ]
  },
  {
   "cell_type": "code",
   "execution_count": 24,
   "id": "04d1afab-5bfc-44c6-84e4-5dccec4c91a0",
   "metadata": {},
   "outputs": [
    {
     "data": {
      "text/plain": [
       "prec      0.681356\n",
       "recall    0.938937\n",
       "f1        0.785273\n",
       "AP25      0.712946\n",
       "AP50      0.650368\n",
       "AP75      0.572656\n",
       "mAP       0.645323\n",
       "dtype: float64"
      ]
     },
     "execution_count": 24,
     "metadata": {},
     "output_type": "execute_result"
    }
   ],
   "source": [
    "metrics_df.mean(0)"
   ]
  },
  {
   "cell_type": "code",
   "execution_count": 6,
   "id": "e933ebae-145f-40e3-9218-963ea6e833e9",
   "metadata": {},
   "outputs": [
    {
     "data": {
      "text/plain": [
       "prec      0.098321\n",
       "recall    0.025166\n",
       "f1        0.065394\n",
       "AP25      0.083175\n",
       "AP50      0.084757\n",
       "AP75      0.072629\n",
       "mAP       0.079221\n",
       "dtype: float64"
      ]
     },
     "execution_count": 6,
     "metadata": {},
     "output_type": "execute_result"
    }
   ],
   "source": [
    "metrics_df.std(0)"
   ]
  },
  {
   "cell_type": "code",
   "execution_count": 23,
   "id": "8c203ee4-8dd5-49ea-add9-4e238c9252fc",
   "metadata": {},
   "outputs": [],
   "source": [
    "metrics_df.to_csv('results/ovules_cp3d_variant.csv', index=True)"
   ]
  },
  {
   "cell_type": "markdown",
   "id": "0e8d0794-98fd-4222-8043-cc126e450d86",
   "metadata": {},
   "source": [
    "**ATAS**"
   ]
  },
  {
   "cell_type": "code",
   "execution_count": 13,
   "id": "05691ab0-ce31-46cd-8c5d-77c31dd873cc",
   "metadata": {},
   "outputs": [
    {
     "name": "stdout",
     "output_type": "stream",
     "text": [
      "0hrs_plant13_trim-acylYFP.npy\n",
      "0hrs_plant15_trim-acylYFP.npy\n",
      "0hrs_plant18_trim-acylYFP.npy\n",
      "0hrs_plant1_trim-acylYFP.npy\n",
      "0hrs_plant2_trim-acylYFP.npy\n"
     ]
    }
   ],
   "source": [
    "%ls ../data/ATAS/raw/ | head -n 5"
   ]
  },
  {
   "cell_type": "code",
   "execution_count": 13,
   "id": "3b7a2c2f-45b4-4638-8f79-22bdeb76c09c",
   "metadata": {},
   "outputs": [],
   "source": [
    "atas_path = '../data/ATAS/raw/'\n",
    "mask_path = '../data/ATAS/labels/'\n",
    "atas_output_path = 'data/ATAS/'\n",
    "\n",
    "if not os.path.exists(atas_output_path):\n",
    "    os.makedirs(atas_output_path, exist_ok=True)\n",
    "\n",
    "fnames = [\n",
    "    f.rpartition('.')[0]\n",
    "    for f in sorted(os.listdir(atas_path))\n",
    "]\n",
    "\n",
    "imgs = [\n",
    "    np.load(os.path.join(atas_path, f))\n",
    "    for f in sorted(os.listdir(atas_path))\n",
    "    if f[-3:] == 'npy'\n",
    "]\n",
    "\n",
    "# for (f, img) in zip(fnames, imgs):\n",
    "#     tifffile.imwrite(os.path.join(atas_output_path, f+'.tif'), img)\n",
    "    \n",
    "del atas_path"
   ]
  },
  {
   "cell_type": "code",
   "execution_count": 8,
   "id": "ac116470-b040-4173-bce4-d3e257858933",
   "metadata": {},
   "outputs": [
    {
     "name": "stdout",
     "output_type": "stream",
     "text": [
      "[02:02:17] Processing image 1/125 in \"\"\n",
      "[02:02:17] Processing image 2/125 in \"\"\n",
      "[02:02:18] Processing image 3/125 in \"\"\n",
      "[02:02:18] Processing image 4/125 in \"\"\n",
      "[02:02:18] Processing image 5/125 in \"\"\n",
      "[02:02:18] Processing image 6/125 in \"\"\n",
      "[02:02:19] Processing image 7/125 in \"\"\n",
      "[02:02:19] Processing image 8/125 in \"\"\n",
      "[02:02:19] Processing image 9/125 in \"\"\n",
      "[02:02:20] Processing image 10/125 in \"\"\n",
      "[02:02:20] Processing image 11/125 in \"\"\n",
      "[02:02:20] Processing image 12/125 in \"\"\n",
      "[02:02:20] Processing image 13/125 in \"\"\n",
      "[02:02:21] Processing image 14/125 in \"\"\n",
      "[02:02:21] Processing image 15/125 in \"\"\n",
      "[02:02:21] Processing image 16/125 in \"\"\n",
      "[02:02:22] Processing image 17/125 in \"\"\n",
      "[02:02:22] Processing image 18/125 in \"\"\n",
      "[02:02:22] Processing image 19/125 in \"\"\n",
      "[02:02:23] Processing image 20/125 in \"\"\n",
      "[02:02:23] Processing image 21/125 in \"\"\n",
      "[02:02:23] Processing image 22/125 in \"\"\n",
      "[02:02:23] Processing image 23/125 in \"\"\n",
      "[02:02:24] Processing image 24/125 in \"\"\n",
      "[02:02:24] Processing image 25/125 in \"\"\n",
      "[02:02:24] Processing image 26/125 in \"\"\n",
      "[02:02:24] Processing image 27/125 in \"\"\n",
      "[02:02:25] Processing image 28/125 in \"\"\n",
      "[02:02:25] Processing image 29/125 in \"\"\n",
      "[02:02:25] Processing image 30/125 in \"\"\n",
      "[02:02:26] Processing image 31/125 in \"\"\n",
      "[02:02:26] Processing image 32/125 in \"\"\n",
      "[02:02:26] Processing image 33/125 in \"\"\n",
      "[02:02:27] Processing image 34/125 in \"\"\n",
      "[02:02:27] Processing image 35/125 in \"\"\n",
      "[02:02:27] Processing image 36/125 in \"\"\n",
      "[02:02:28] Processing image 37/125 in \"\"\n",
      "[02:02:28] Processing image 38/125 in \"\"\n",
      "[02:02:28] Processing image 39/125 in \"\"\n",
      "[02:02:28] Processing image 40/125 in \"\"\n",
      "[02:02:29] Processing image 41/125 in \"\"\n",
      "[02:02:29] Processing image 42/125 in \"\"\n",
      "[02:02:29] Processing image 43/125 in \"\"\n",
      "[02:02:30] Processing image 44/125 in \"\"\n",
      "[02:02:30] Processing image 45/125 in \"\"\n",
      "[02:02:30] Processing image 46/125 in \"\"\n",
      "[02:02:31] Processing image 47/125 in \"\"\n",
      "[02:02:31] Processing image 48/125 in \"\"\n",
      "[02:02:31] Processing image 49/125 in \"\"\n",
      "[02:02:32] Processing image 50/125 in \"\"\n",
      "[02:02:32] Processing image 51/125 in \"\"\n",
      "[02:02:32] Processing image 52/125 in \"\"\n",
      "[02:02:33] Processing image 53/125 in \"\"\n",
      "[02:02:33] Processing image 54/125 in \"\"\n",
      "[02:02:33] Processing image 55/125 in \"\"\n",
      "[02:02:33] Processing image 56/125 in \"\"\n",
      "[02:02:34] Processing image 57/125 in \"\"\n",
      "[02:02:34] Processing image 58/125 in \"\"\n",
      "[02:02:34] Processing image 59/125 in \"\"\n",
      "[02:02:35] Processing image 60/125 in \"\"\n",
      "[02:02:35] Processing image 61/125 in \"\"\n",
      "[02:02:35] Processing image 62/125 in \"\"\n",
      "[02:02:35] Processing image 63/125 in \"\"\n",
      "[02:02:36] Processing image 64/125 in \"\"\n",
      "[02:02:36] Processing image 65/125 in \"\"\n",
      "[02:02:36] Processing image 66/125 in \"\"\n",
      "[02:02:37] Processing image 67/125 in \"\"\n",
      "[02:02:37] Processing image 68/125 in \"\"\n",
      "[02:02:37] Processing image 69/125 in \"\"\n",
      "[02:02:38] Processing image 70/125 in \"\"\n",
      "[02:02:38] Processing image 71/125 in \"\"\n",
      "[02:02:38] Processing image 72/125 in \"\"\n",
      "[02:02:38] Processing image 73/125 in \"\"\n",
      "[02:02:39] Processing image 74/125 in \"\"\n",
      "[02:02:39] Processing image 75/125 in \"\"\n",
      "[02:02:39] Processing image 76/125 in \"\"\n",
      "[02:02:40] Processing image 77/125 in \"\"\n",
      "[02:02:40] Processing image 78/125 in \"\"\n",
      "[02:02:40] Processing image 79/125 in \"\"\n",
      "[02:02:40] Processing image 80/125 in \"\"\n",
      "[02:02:41] Processing image 81/125 in \"\"\n",
      "[02:02:41] Processing image 82/125 in \"\"\n",
      "[02:02:41] Processing image 83/125 in \"\"\n",
      "[02:02:41] Processing image 84/125 in \"\"\n",
      "[02:02:42] Processing image 85/125 in \"\"\n",
      "[02:02:42] Processing image 86/125 in \"\"\n",
      "[02:02:42] Processing image 87/125 in \"\"\n",
      "[02:02:42] Processing image 88/125 in \"\"\n",
      "[02:02:43] Processing image 89/125 in \"\"\n",
      "[02:02:43] Processing image 90/125 in \"\"\n",
      "[02:02:43] Processing image 91/125 in \"\"\n",
      "[02:02:44] Processing image 92/125 in \"\"\n",
      "[02:02:44] Processing image 93/125 in \"\"\n",
      "[02:02:44] Processing image 94/125 in \"\"\n",
      "[02:02:44] Processing image 95/125 in \"\"\n",
      "[02:02:45] Processing image 96/125 in \"\"\n",
      "[02:02:45] Processing image 97/125 in \"\"\n",
      "[02:02:45] Processing image 98/125 in \"\"\n",
      "[02:02:45] Processing image 99/125 in \"\"\n",
      "[02:02:46] Processing image 100/125 in \"\"\n",
      "[02:02:46] Processing image 101/125 in \"\"\n",
      "[02:02:46] Processing image 102/125 in \"\"\n",
      "[02:02:46] Processing image 103/125 in \"\"\n",
      "[02:02:47] Processing image 104/125 in \"\"\n",
      "[02:02:47] Processing image 105/125 in \"\"\n",
      "[02:02:47] Processing image 106/125 in \"\"\n",
      "[02:02:48] Processing image 107/125 in \"\"\n",
      "[02:02:48] Processing image 108/125 in \"\"\n",
      "[02:02:49] Processing image 109/125 in \"\"\n",
      "[02:02:49] Processing image 110/125 in \"\"\n",
      "[02:02:49] Processing image 111/125 in \"\"\n",
      "[02:02:49] Processing image 112/125 in \"\"\n",
      "[02:02:50] Processing image 113/125 in \"\"\n",
      "[02:02:50] Processing image 114/125 in \"\"\n",
      "[02:02:50] Processing image 115/125 in \"\"\n",
      "[02:02:51] Processing image 116/125 in \"\"\n",
      "[02:02:51] Processing image 117/125 in \"\"\n",
      "[02:02:51] Processing image 118/125 in \"\"\n",
      "[02:02:51] Processing image 119/125 in \"\"\n",
      "[02:02:52] Processing image 120/125 in \"\"\n",
      "[02:02:52] Processing image 121/125 in \"\"\n",
      "[02:02:53] Processing image 122/125 in \"\"\n",
      "[02:02:53] Processing image 123/125 in \"\"\n",
      "[02:02:53] Processing image 124/125 in \"\"\n",
      "[02:02:54] Processing image 125/125 in \"\"\n"
     ]
    }
   ],
   "source": [
    "# Prepare output h5 file for Cellpose3D\n",
    "h5_converter.prepare_images(data_path=atas_output_path)"
   ]
  },
  {
   "cell_type": "code",
   "execution_count": 7,
   "id": "886a42ad-0ba3-46f8-a5bd-8ad34e22baa9",
   "metadata": {},
   "outputs": [],
   "source": [
    "# Generate filename list .csv\n",
    "with open('ATAS_files_test.csv', 'w') as ofile:\n",
    "    for filename in fnames:\n",
    "        ofile.write(os.path.join(atas_output_path, filename+'.h5;\\n'))\n",
    "        "
   ]
  },
  {
   "cell_type": "markdown",
   "id": "f78c3c51-6cab-4cb0-8168-723a29f382a5",
   "metadata": {},
   "source": [
    "**Calculate metrics**"
   ]
  },
  {
   "cell_type": "code",
   "execution_count": 24,
   "id": "e02dbc11-eac5-4757-9bec-f3ab968b2c02",
   "metadata": {},
   "outputs": [],
   "source": [
    "# Load test set filenames\n",
    "\n",
    "\n",
    "res_path = 'results/ATAS/'\n",
    "test_fnames = [\n",
    "    f.split('.')[0]\n",
    "    for f in sorted(os.listdir('../results/ATAS/cellpose2d/'))\n",
    "    if f[-3:] == 'npy'\n",
    "]\n",
    "\n",
    "output_fnames = [\n",
    "    f.strip('instances_').split('.')[0]\n",
    "    for f in sorted(os.listdir(res_path))\n",
    "    if f.startswith('instance') and f[-3:] == 'tif'\n",
    "]\n",
    "\n",
    "fnames = np.intersect1d(test_fnames, output_fnames)  # filter out failed-to-segmented names\n",
    "\n",
    "del test_fnames, output_fnames\n"
   ]
  },
  {
   "cell_type": "code",
   "execution_count": null,
   "id": "4c24d3b0-7aab-41d0-98fe-04938687786a",
   "metadata": {},
   "outputs": [
    {
     "name": "stdout",
     "output_type": "stream",
     "text": [
      "Calculating metrics for 0hrs_plant2_trim-acylYFP...\n",
      "(22, 512, 512) (22, 512, 512)\n",
      "Calculating metrics for 12hrs_plant18_trim-acylYFP...\n",
      "(15, 512, 512) (15, 512, 512)\n",
      "Calculating metrics for 12hrs_plant2_trim-acylYFP...\n",
      "(13, 512, 512) (13, 512, 512)\n",
      "Calculating metrics for 20hrs_plant13_trim-acylYFP...\n",
      "(18, 512, 512) (18, 512, 512)\n",
      "Calculating metrics for 20hrs_plant2_trim-acylYFP...\n",
      "(18, 512, 512) (18, 512, 512)\n",
      "Calculating metrics for 24hrs_plant13_trim-acylYFP...\n",
      "(20, 512, 512) (20, 512, 512)\n",
      "Calculating metrics for 24hrs_plant15_trim-acylYFP...\n",
      "(18, 512, 512) (18, 512, 512)\n",
      "Calculating metrics for 28hrs_plant1_trim-acylYFP...\n",
      "(22, 512, 512) (22, 512, 512)\n",
      "Calculating metrics for 32hrs_plant13_trim-acylYFP...\n",
      "(21, 512, 512) (21, 512, 512)\n",
      "Calculating metrics for 36hrs_plant15_trim-acylYFP...\n",
      "(23, 512, 512) (23, 512, 512)\n",
      "Calculating metrics for 36hrs_plant2_trim-acylYFP...\n",
      "(24, 512, 512) (24, 512, 512)\n",
      "Calculating metrics for 40hrs_plant13_trim-acylYFP...\n",
      "(21, 512, 512) (21, 512, 512)\n",
      "Calculating metrics for 40hrs_plant1_trim-acylYFP...\n",
      "(18, 512, 512) (18, 512, 512)\n"
     ]
    }
   ],
   "source": [
    "metrics = np.zeros((len(fnames), 7))\n",
    "\n",
    "for i, fname in enumerate(fnames):\n",
    "    print('Calculating metrics for {}...'.format(fname))\n",
    "    y_pred = tifffile.imread(os.path.join(res_path, 'instances_' + fname+'.tif')).astype(np.int64)\n",
    "    y_true = np.load(os.path.join(mask_path, fname+'.npy')).astype(np.int64)\n",
    "    \n",
    "    print(y_pred.shape, y_true.shape)\n",
    "    \n",
    "    assert y_pred.shape == y_true.shape, \"Inconsistent shapes btw ground-truth & predictions\"\n",
    "    \n",
    "    ap25 = evaluation.average_precision(y_true, y_pred, 0.25)[0]\n",
    "    ap75 = evaluation.average_precision(y_true, y_pred, 0.75)[0]\n",
    "    ap50, tp, fp, fn = evaluation.average_precision(y_true, y_pred, 0.5)\n",
    "    mAP = np.mean([ap25, ap50, ap75])\n",
    "    prec, recall, f1 = tp/(tp+fp), tp/(tp+fn), tp/(tp+0.5*(fp+fn))\n",
    "    \n",
    "    metrics[i] = [prec, recall, f1, ap25, ap50, ap75, mAP]\n",
    "    gc.collect()\n",
    "    \n",
    "del y_true, y_pred, ap25, ap50, ap75, tp, fp, fn, prec, recall, f1\n"
   ]
  },
  {
   "cell_type": "code",
   "execution_count": 41,
   "id": "cdb4f87b-2e24-47c3-81dc-e7c968f47707",
   "metadata": {},
   "outputs": [],
   "source": [
    "sample_pred = tifffile.imread(os.path.join(res_path, 'instances_' + '8hrs_plant2_trim-acylYFP.tif')).astype(np.int64)\n",
    "sample_mask = np.load(os.path.join(mask_path, '8hrs_plant2_trim-acylYFP.npy')).astype(np.int64)"
   ]
  },
  {
   "cell_type": "code",
   "execution_count": 33,
   "id": "c9d0ff1d-310d-4384-8f47-202411c7e46f",
   "metadata": {},
   "outputs": [
    {
     "name": "stdout",
     "output_type": "stream",
     "text": [
      "Mean:\n",
      "prec      0.086227\n",
      "recall    0.033811\n",
      "f1        0.047978\n",
      "AP25      0.243113\n",
      "AP50      0.024850\n",
      "AP75      0.000239\n",
      "mAP       0.089401\n",
      "dtype: float64\n",
      "\n",
      "\n",
      "Std\n",
      "prec      0.047915\n",
      "recall    0.024572\n",
      "f1        0.031966\n",
      "AP25      0.078779\n",
      "AP50      0.017091\n",
      "AP75      0.000858\n",
      "mAP       0.030225\n",
      "dtype: float64\n"
     ]
    }
   ],
   "source": [
    "metrics_df = pd.DataFrame(metrics, columns=['prec', 'recall', 'f1', 'AP25', 'AP50', 'AP75', 'mAP'])\n",
    "\n",
    "print('Mean:')\n",
    "print(metrics_df.mean(0))\n",
    "print('\\n\\nStd')\n",
    "print(metrics_df.std(0))"
   ]
  },
  {
   "cell_type": "code",
   "execution_count": 48,
   "id": "062aaeb4-576c-4d5a-a563-23a709422745",
   "metadata": {},
   "outputs": [],
   "source": [
    "metrics_df.to_csv('results/atas_cp3d_variants.csv', index=True)"
   ]
  },
  {
   "cell_type": "markdown",
   "id": "76126fa5-50a9-4e87-b87d-56df6fc95d77",
   "metadata": {},
   "source": [
    "**Plant Atlas**"
   ]
  },
  {
   "cell_type": "code",
   "execution_count": 22,
   "id": "92761124-9ce4-4e38-86be-fb91c36656c8",
   "metadata": {},
   "outputs": [
    {
     "name": "stdout",
     "output_type": "stream",
     "text": [
      "\u001b[0m\u001b[01;34mAnther\u001b[0m/        \u001b[01;34mFilament_masks\u001b[0m/  \u001b[01;34mPedicel\u001b[0m/        \u001b[01;34mSepal_masks\u001b[0m/\n",
      "\u001b[01;34mAnther_masks\u001b[0m/  \u001b[01;34mLeaf\u001b[0m/            \u001b[01;34mPedicel_masks\u001b[0m/  \u001b[01;34mValve\u001b[0m/\n",
      "\u001b[01;34mFilament\u001b[0m/      \u001b[01;34mLeaf_masks\u001b[0m/      \u001b[01;34mSepal\u001b[0m/          \u001b[01;34mValve_masks\u001b[0m/\n"
     ]
    }
   ],
   "source": [
    "%ls ../data/plant_atlas/"
   ]
  },
  {
   "cell_type": "code",
   "execution_count": 4,
   "id": "58940ee7-3391-4e6c-abfa-3c56b316fde6",
   "metadata": {},
   "outputs": [],
   "source": [
    "# Directly copy .tif files to target directory\n",
    "regions = ['Anther', 'Filament', 'Leaf', 'Pedicel', 'Sepal', 'Valve']\n",
    "\n",
    "for region in regions:\n",
    "    region_path = os.path.join('data', region)\n",
    "    if not os.path.exists(region_path):\n",
    "        os.makedirs(region_path)\n",
    "\n",
    "        \n",
    "del region, region_path"
   ]
  },
  {
   "cell_type": "code",
   "execution_count": 6,
   "id": "3847606d-47e0-412a-8d28-b53730c1a9f0",
   "metadata": {},
   "outputs": [
    {
     "name": "stdout",
     "output_type": "stream",
     "text": [
      "Generating test files for Anther...\n",
      "[14:49:30] Processing image 1/30 in \"\"\n",
      "[14:49:30] Processing image 2/30 in \"\"\n",
      "[14:49:30] Processing image 3/30 in \"\"\n",
      "[14:49:30] Processing image 4/30 in \"\"\n",
      "[14:49:30] Processing image 5/30 in \"\"\n",
      "[14:49:30] Processing image 6/30 in \"\"\n",
      "[14:49:30] Processing image 7/30 in \"\"\n",
      "[14:49:30] Processing image 8/30 in \"\"\n",
      "[14:49:30] Processing image 9/30 in \"\"\n",
      "[14:49:30] Processing image 10/30 in \"\"\n",
      "[14:49:30] Processing image 11/30 in \"\"\n",
      "[14:49:30] Processing image 12/30 in \"\"\n",
      "[14:49:30] Processing image 13/30 in \"\"\n",
      "[14:49:30] Processing image 14/30 in \"\"\n",
      "[14:49:31] Processing image 15/30 in \"\"\n",
      "[14:49:31] Processing image 16/30 in \"\"\n",
      "[14:49:31] Processing image 17/30 in \"\"\n",
      "[14:49:31] Processing image 18/30 in \"\"\n",
      "[14:49:31] Processing image 19/30 in \"\"\n",
      "[14:49:31] Processing image 20/30 in \"\"\n",
      "[14:49:31] Processing image 21/30 in \"\"\n",
      "[14:49:31] Processing image 22/30 in \"\"\n",
      "[14:49:31] Processing image 23/30 in \"\"\n",
      "[14:49:31] Processing image 24/30 in \"\"\n",
      "[14:49:31] Processing image 25/30 in \"\"\n",
      "[14:49:31] Processing image 26/30 in \"\"\n",
      "[14:49:31] Processing image 27/30 in \"\"\n",
      "[14:49:31] Processing image 28/30 in \"\"\n",
      "[14:49:32] Processing image 29/30 in \"\"\n",
      "[14:49:32] Processing image 30/30 in \"\"\n",
      "Generating test files for Filament...\n",
      "[14:49:32] Processing image 1/30 in \"\"\n",
      "[14:49:32] Processing image 2/30 in \"\"\n",
      "[14:49:32] Processing image 3/30 in \"\"\n",
      "[14:49:32] Processing image 4/30 in \"\"\n",
      "[14:49:32] Processing image 5/30 in \"\"\n",
      "[14:49:32] Processing image 6/30 in \"\"\n",
      "[14:49:32] Processing image 7/30 in \"\"\n",
      "[14:49:32] Processing image 8/30 in \"\"\n",
      "[14:49:32] Processing image 9/30 in \"\"\n",
      "[14:49:32] Processing image 10/30 in \"\"\n",
      "[14:49:32] Processing image 11/30 in \"\"\n",
      "[14:49:32] Processing image 12/30 in \"\"\n",
      "[14:49:33] Processing image 13/30 in \"\"\n",
      "[14:49:33] Processing image 14/30 in \"\"\n",
      "[14:49:33] Processing image 15/30 in \"\"\n",
      "[14:49:33] Processing image 16/30 in \"\"\n",
      "[14:49:33] Processing image 17/30 in \"\"\n",
      "[14:49:33] Processing image 18/30 in \"\"\n",
      "[14:49:33] Processing image 19/30 in \"\"\n",
      "[14:49:33] Processing image 20/30 in \"\"\n",
      "[14:49:33] Processing image 21/30 in \"\"\n",
      "[14:49:33] Processing image 22/30 in \"\"\n",
      "[14:49:33] Processing image 23/30 in \"\"\n",
      "[14:49:33] Processing image 24/30 in \"\"\n",
      "[14:49:33] Processing image 25/30 in \"\"\n",
      "[14:49:33] Processing image 26/30 in \"\"\n",
      "[14:49:34] Processing image 27/30 in \"\"\n",
      "[14:49:34] Processing image 28/30 in \"\"\n",
      "[14:49:34] Processing image 29/30 in \"\"\n",
      "[14:49:34] Processing image 30/30 in \"\"\n",
      "Generating test files for Leaf...\n",
      "[14:49:34] Processing image 1/30 in \"\"\n",
      "[14:49:34] Processing image 2/30 in \"\"\n",
      "[14:49:34] Processing image 3/30 in \"\"\n",
      "[14:49:34] Processing image 4/30 in \"\"\n",
      "[14:49:34] Processing image 5/30 in \"\"\n",
      "[14:49:34] Processing image 6/30 in \"\"\n",
      "[14:49:34] Processing image 7/30 in \"\"\n",
      "[14:49:34] Processing image 8/30 in \"\"\n",
      "[14:49:34] Processing image 9/30 in \"\"\n",
      "[14:49:35] Processing image 10/30 in \"\"\n",
      "[14:49:35] Processing image 11/30 in \"\"\n",
      "[14:49:35] Processing image 12/30 in \"\"\n",
      "[14:49:35] Processing image 13/30 in \"\"\n",
      "[14:49:35] Processing image 14/30 in \"\"\n",
      "[14:49:35] Processing image 15/30 in \"\"\n",
      "[14:49:35] Processing image 16/30 in \"\"\n",
      "[14:49:35] Processing image 17/30 in \"\"\n",
      "[14:49:35] Processing image 18/30 in \"\"\n",
      "[14:49:35] Processing image 19/30 in \"\"\n",
      "[14:49:35] Processing image 20/30 in \"\"\n",
      "[14:49:35] Processing image 21/30 in \"\"\n",
      "[14:49:36] Processing image 22/30 in \"\"\n",
      "[14:49:36] Processing image 23/30 in \"\"\n",
      "[14:49:36] Processing image 24/30 in \"\"\n",
      "[14:49:36] Processing image 25/30 in \"\"\n",
      "[14:49:36] Processing image 26/30 in \"\"\n",
      "[14:49:36] Processing image 27/30 in \"\"\n",
      "[14:49:36] Processing image 28/30 in \"\"\n",
      "[14:49:36] Processing image 29/30 in \"\"\n",
      "[14:49:36] Processing image 30/30 in \"\"\n",
      "Generating test files for Pedicel...\n",
      "[14:49:36] Processing image 1/30 in \"\"\n",
      "[14:49:36] Processing image 2/30 in \"\"\n",
      "[14:49:36] Processing image 3/30 in \"\"\n",
      "[14:49:37] Processing image 4/30 in \"\"\n",
      "[14:49:37] Processing image 5/30 in \"\"\n",
      "[14:49:37] Processing image 6/30 in \"\"\n",
      "[14:49:37] Processing image 7/30 in \"\"\n",
      "[14:49:37] Processing image 8/30 in \"\"\n",
      "[14:49:37] Processing image 9/30 in \"\"\n",
      "[14:49:37] Processing image 10/30 in \"\"\n",
      "[14:49:37] Processing image 11/30 in \"\"\n",
      "[14:49:37] Processing image 12/30 in \"\"\n",
      "[14:49:37] Processing image 13/30 in \"\"\n",
      "[14:49:37] Processing image 14/30 in \"\"\n",
      "[14:49:37] Processing image 15/30 in \"\"\n",
      "[14:49:37] Processing image 16/30 in \"\"\n",
      "[14:49:37] Processing image 17/30 in \"\"\n",
      "[14:49:37] Processing image 18/30 in \"\"\n",
      "[14:49:38] Processing image 19/30 in \"\"\n",
      "[14:49:38] Processing image 20/30 in \"\"\n",
      "[14:49:38] Processing image 21/30 in \"\"\n",
      "[14:49:38] Processing image 22/30 in \"\"\n",
      "[14:49:38] Processing image 23/30 in \"\"\n",
      "[14:49:38] Processing image 24/30 in \"\"\n",
      "[14:49:38] Processing image 25/30 in \"\"\n",
      "[14:49:38] Processing image 26/30 in \"\"\n",
      "[14:49:38] Processing image 27/30 in \"\"\n",
      "[14:49:38] Processing image 28/30 in \"\"\n",
      "[14:49:38] Processing image 29/30 in \"\"\n",
      "[14:49:38] Processing image 30/30 in \"\"\n",
      "Generating test files for Sepal...\n",
      "[14:49:38] Processing image 1/30 in \"\"\n",
      "[14:49:38] Processing image 2/30 in \"\"\n",
      "[14:49:39] Processing image 3/30 in \"\"\n",
      "[14:49:39] Processing image 4/30 in \"\"\n",
      "[14:49:39] Processing image 5/30 in \"\"\n",
      "[14:49:39] Processing image 6/30 in \"\"\n",
      "[14:49:39] Processing image 7/30 in \"\"\n",
      "[14:49:39] Processing image 8/30 in \"\"\n",
      "[14:49:39] Processing image 9/30 in \"\"\n",
      "[14:49:39] Processing image 10/30 in \"\"\n",
      "[14:49:39] Processing image 11/30 in \"\"\n",
      "[14:49:39] Processing image 12/30 in \"\"\n",
      "[14:49:39] Processing image 13/30 in \"\"\n",
      "[14:49:39] Processing image 14/30 in \"\"\n",
      "[14:49:39] Processing image 15/30 in \"\"\n",
      "[14:49:39] Processing image 16/30 in \"\"\n",
      "[14:49:39] Processing image 17/30 in \"\"\n",
      "[14:49:40] Processing image 18/30 in \"\"\n",
      "[14:49:40] Processing image 19/30 in \"\"\n",
      "[14:49:40] Processing image 20/30 in \"\"\n",
      "[14:49:40] Processing image 21/30 in \"\"\n",
      "[14:49:40] Processing image 22/30 in \"\"\n",
      "[14:49:40] Processing image 23/30 in \"\"\n",
      "[14:49:40] Processing image 24/30 in \"\"\n",
      "[14:49:40] Processing image 25/30 in \"\"\n",
      "[14:49:40] Processing image 26/30 in \"\"\n",
      "[14:49:40] Processing image 27/30 in \"\"\n",
      "[14:49:40] Processing image 28/30 in \"\"\n",
      "[14:49:40] Processing image 29/30 in \"\"\n",
      "[14:49:40] Processing image 30/30 in \"\"\n",
      "Generating test files for Valve...\n",
      "[14:49:40] Processing image 1/30 in \"\"\n",
      "[14:49:41] Processing image 2/30 in \"\"\n",
      "[14:49:41] Processing image 3/30 in \"\"\n",
      "[14:49:41] Processing image 4/30 in \"\"\n",
      "[14:49:41] Processing image 5/30 in \"\"\n",
      "[14:49:41] Processing image 6/30 in \"\"\n",
      "[14:49:41] Processing image 7/30 in \"\"\n",
      "[14:49:41] Processing image 8/30 in \"\"\n",
      "[14:49:41] Processing image 9/30 in \"\"\n",
      "[14:49:41] Processing image 10/30 in \"\"\n",
      "[14:49:41] Processing image 11/30 in \"\"\n",
      "[14:49:41] Processing image 12/30 in \"\"\n",
      "[14:49:42] Processing image 13/30 in \"\"\n",
      "[14:49:42] Processing image 14/30 in \"\"\n",
      "[14:49:42] Processing image 15/30 in \"\"\n",
      "[14:49:42] Processing image 16/30 in \"\"\n",
      "[14:49:42] Processing image 17/30 in \"\"\n",
      "[14:49:42] Processing image 18/30 in \"\"\n",
      "[14:49:42] Processing image 19/30 in \"\"\n",
      "[14:49:42] Processing image 20/30 in \"\"\n",
      "[14:49:42] Processing image 21/30 in \"\"\n",
      "[14:49:42] Processing image 22/30 in \"\"\n",
      "[14:49:42] Processing image 23/30 in \"\"\n",
      "[14:49:42] Processing image 24/30 in \"\"\n",
      "[14:49:43] Processing image 25/30 in \"\"\n",
      "[14:49:43] Processing image 26/30 in \"\"\n",
      "[14:49:43] Processing image 27/30 in \"\"\n",
      "[14:49:43] Processing image 28/30 in \"\"\n",
      "[14:49:43] Processing image 29/30 in \"\"\n",
      "[14:49:43] Processing image 30/30 in \"\"\n"
     ]
    }
   ],
   "source": [
    "# Prepare output h5 file for Cellpose3D\n",
    "for region in regions:\n",
    "    print('Generating test files for {}...'.format(region))s\n",
    "    region_path = os.path.join('data', region)\n",
    "    h5_converter.prepare_images(data_path=region_path)"
   ]
  },
  {
   "cell_type": "code",
   "execution_count": null,
   "id": "24d93b35-c068-4c0d-8921-73de956447ef",
   "metadata": {},
   "outputs": [],
   "source": [
    "# # Generate filename list .csv\n",
    "# with open('files_test.csv', 'w') as ofile:\n",
    "#     for filename in fnames:\n",
    "# ofile.write(filename+'.tif;\\n')"
   ]
  },
  {
   "cell_type": "code",
   "execution_count": 10,
   "id": "8bb20045-e4b2-4ff1-a53a-257518a7dbb1",
   "metadata": {},
   "outputs": [],
   "source": [
    "# Generate filename list .csv\n",
    "for region in regions:\n",
    "    region_path = os.path.join('data', region)\n",
    "    fnames = [\n",
    "        f.split('.')[0]\n",
    "        for f in sorted(os.listdir(region_path))\n",
    "        if f[-2:] == 'h5'\n",
    "    ]\n",
    "    \n",
    "    with open(region+'_files_test.csv', 'w') as ofile:\n",
    "        for filename in fnames:\n",
    "            ofile.write(os.path.join(region_path, filename+'.h5;\\n'))\n",
    "            \n",
    "del region, region_path, fnames"
   ]
  },
  {
   "cell_type": "markdown",
   "id": "bb2ccfe0-2e36-4b47-ab81-e6d93553aa3a",
   "metadata": {},
   "source": [
    "**Calculate metrics**"
   ]
  },
  {
   "cell_type": "code",
   "execution_count": 12,
   "id": "89936d49-0f56-4cb3-9479-30b872b71a62",
   "metadata": {},
   "outputs": [
    {
     "name": "stdout",
     "output_type": "stream",
     "text": [
      "\u001b[0m\u001b[01;35mAnther_20.tif\u001b[0m  \u001b[01;35mAnther_26.tif\u001b[0m  \u001b[01;35mAnther_32.tif\u001b[0m  \u001b[01;35mAnther_38.tif\u001b[0m  \u001b[01;35mAnther_44.tif\u001b[0m\n",
      "\u001b[01;35mAnther_21.tif\u001b[0m  \u001b[01;35mAnther_27.tif\u001b[0m  \u001b[01;35mAnther_33.tif\u001b[0m  \u001b[01;35mAnther_39.tif\u001b[0m  \u001b[01;35mAnther_45.tif\u001b[0m\n",
      "\u001b[01;35mAnther_22.tif\u001b[0m  \u001b[01;35mAnther_28.tif\u001b[0m  \u001b[01;35mAnther_34.tif\u001b[0m  \u001b[01;35mAnther_40.tif\u001b[0m  \u001b[01;35mAnther_46.tif\u001b[0m\n",
      "\u001b[01;35mAnther_23.tif\u001b[0m  \u001b[01;35mAnther_29.tif\u001b[0m  \u001b[01;35mAnther_35.tif\u001b[0m  \u001b[01;35mAnther_41.tif\u001b[0m  \u001b[01;35mAnther_47.tif\u001b[0m\n",
      "\u001b[01;35mAnther_24.tif\u001b[0m  \u001b[01;35mAnther_30.tif\u001b[0m  \u001b[01;35mAnther_36.tif\u001b[0m  \u001b[01;35mAnther_42.tif\u001b[0m  \u001b[01;35mAnther_48.tif\u001b[0m\n",
      "\u001b[01;35mAnther_25.tif\u001b[0m  \u001b[01;35mAnther_31.tif\u001b[0m  \u001b[01;35mAnther_37.tif\u001b[0m  \u001b[01;35mAnther_43.tif\u001b[0m  \u001b[01;35mAnther_49.tif\u001b[0m\n"
     ]
    }
   ],
   "source": [
    "%ls ../data/plant_atlas/Anther_masks/"
   ]
  },
  {
   "cell_type": "code",
   "execution_count": 5,
   "id": "2347cea6-adcd-4059-8972-8d3cb56d3c00",
   "metadata": {},
   "outputs": [
    {
     "name": "stdout",
     "output_type": "stream",
     "text": [
      "Calculating metrics for Anther_20.tif...\n",
      "Calculating metrics for Anther_21.tif...\n",
      "Calculating metrics for Anther_22.tif...\n",
      "Calculating metrics for Anther_23.tif...\n",
      "Calculating metrics for Anther_24.tif...\n",
      "Calculating metrics for Anther_25.tif...\n",
      "Calculating metrics for Anther_26.tif...\n",
      "Calculating metrics for Anther_27.tif...\n",
      "Calculating metrics for Anther_28.tif...\n",
      "Calculating metrics for Anther_29.tif...\n",
      "Calculating metrics for Anther_30.tif...\n",
      "Calculating metrics for Anther_31.tif...\n",
      "Calculating metrics for Anther_32.tif...\n",
      "Calculating metrics for Anther_33.tif...\n",
      "Calculating metrics for Anther_34.tif...\n",
      "Calculating metrics for Anther_35.tif...\n",
      "Calculating metrics for Anther_36.tif...\n",
      "Calculating metrics for Anther_37.tif...\n",
      "Calculating metrics for Anther_38.tif...\n",
      "Calculating metrics for Anther_39.tif...\n",
      "Calculating metrics for Anther_40.tif...\n",
      "Calculating metrics for Anther_41.tif...\n",
      "Calculating metrics for Anther_42.tif...\n",
      "Calculating metrics for Anther_43.tif...\n",
      "Calculating metrics for Anther_44.tif...\n",
      "Calculating metrics for Anther_45.tif...\n",
      "Calculating metrics for Anther_46.tif...\n",
      "Calculating metrics for Anther_47.tif...\n",
      "Calculating metrics for Anther_48.tif...\n",
      "Calculating metrics for Anther_49.tif...\n",
      "Calculating metrics for Filament_20.tif...\n",
      "Calculating metrics for Filament_21.tif...\n",
      "Calculating metrics for Filament_22.tif...\n",
      "Calculating metrics for Filament_23.tif...\n",
      "Calculating metrics for Filament_24.tif...\n",
      "Calculating metrics for Filament_25.tif...\n",
      "Calculating metrics for Filament_26.tif...\n",
      "Calculating metrics for Filament_27.tif...\n",
      "Calculating metrics for Filament_28.tif...\n",
      "Calculating metrics for Filament_29.tif...\n",
      "Calculating metrics for Filament_30.tif...\n",
      "Calculating metrics for Filament_31.tif...\n",
      "Calculating metrics for Filament_32.tif...\n",
      "Calculating metrics for Filament_33.tif...\n",
      "Calculating metrics for Filament_34.tif...\n",
      "Calculating metrics for Filament_35.tif...\n",
      "Calculating metrics for Filament_36.tif...\n",
      "Calculating metrics for Filament_37.tif...\n",
      "Calculating metrics for Filament_38.tif...\n",
      "Calculating metrics for Filament_39.tif...\n",
      "Calculating metrics for Filament_40.tif...\n",
      "Calculating metrics for Filament_41.tif...\n",
      "Calculating metrics for Filament_42.tif...\n",
      "Calculating metrics for Filament_43.tif...\n",
      "Calculating metrics for Filament_44.tif...\n",
      "Calculating metrics for Filament_45.tif...\n",
      "Calculating metrics for Filament_46.tif...\n",
      "Calculating metrics for Filament_47.tif...\n",
      "Calculating metrics for Filament_48.tif...\n",
      "Calculating metrics for Filament_49.tif...\n",
      "Calculating metrics for Leaf_20.tif...\n",
      "Calculating metrics for Leaf_21.tif...\n",
      "Calculating metrics for Leaf_22.tif...\n",
      "Calculating metrics for Leaf_23.tif...\n",
      "Calculating metrics for Leaf_24.tif...\n",
      "Calculating metrics for Leaf_25.tif...\n",
      "Calculating metrics for Leaf_26.tif...\n",
      "Calculating metrics for Leaf_27.tif...\n",
      "Calculating metrics for Leaf_28.tif...\n",
      "Calculating metrics for Leaf_29.tif...\n",
      "Calculating metrics for Leaf_30.tif...\n",
      "Calculating metrics for Leaf_31.tif...\n",
      "Calculating metrics for Leaf_32.tif...\n",
      "Calculating metrics for Leaf_33.tif...\n",
      "Calculating metrics for Leaf_34.tif...\n",
      "Calculating metrics for Leaf_35.tif...\n",
      "Calculating metrics for Leaf_36.tif...\n",
      "Calculating metrics for Leaf_37.tif...\n",
      "Calculating metrics for Leaf_38.tif...\n",
      "Calculating metrics for Leaf_39.tif...\n",
      "Calculating metrics for Leaf_40.tif...\n",
      "Calculating metrics for Leaf_41.tif...\n",
      "Calculating metrics for Leaf_42.tif...\n",
      "Calculating metrics for Leaf_43.tif...\n",
      "Calculating metrics for Leaf_44.tif...\n",
      "Calculating metrics for Leaf_45.tif...\n",
      "Calculating metrics for Leaf_46.tif...\n",
      "Calculating metrics for Leaf_47.tif...\n",
      "Calculating metrics for Leaf_48.tif...\n",
      "Calculating metrics for Leaf_49.tif...\n",
      "Calculating metrics for Pedicel_20.tif...\n",
      "Calculating metrics for Pedicel_21.tif...\n",
      "Calculating metrics for Pedicel_22.tif...\n",
      "Calculating metrics for Pedicel_23.tif...\n",
      "Calculating metrics for Pedicel_24.tif...\n",
      "Calculating metrics for Pedicel_25.tif...\n",
      "Calculating metrics for Pedicel_26.tif...\n",
      "Calculating metrics for Pedicel_27.tif...\n",
      "Calculating metrics for Pedicel_28.tif...\n",
      "Calculating metrics for Pedicel_29.tif...\n",
      "Calculating metrics for Pedicel_30.tif...\n",
      "Calculating metrics for Pedicel_31.tif...\n",
      "Calculating metrics for Pedicel_32.tif...\n",
      "Calculating metrics for Pedicel_33.tif...\n",
      "Calculating metrics for Pedicel_34.tif...\n",
      "Calculating metrics for Pedicel_35.tif...\n",
      "Calculating metrics for Pedicel_36.tif...\n",
      "Calculating metrics for Pedicel_37.tif...\n",
      "Calculating metrics for Pedicel_38.tif...\n",
      "Calculating metrics for Pedicel_39.tif...\n",
      "Calculating metrics for Pedicel_40.tif...\n",
      "Calculating metrics for Pedicel_41.tif...\n",
      "Calculating metrics for Pedicel_42.tif...\n",
      "Calculating metrics for Pedicel_43.tif...\n",
      "Calculating metrics for Pedicel_44.tif...\n",
      "Calculating metrics for Pedicel_45.tif...\n",
      "Calculating metrics for Pedicel_46.tif...\n",
      "Calculating metrics for Pedicel_47.tif...\n",
      "Calculating metrics for Pedicel_48.tif...\n",
      "Calculating metrics for Pedicel_49.tif...\n",
      "Calculating metrics for Sepal_20.tif...\n",
      "Calculating metrics for Sepal_21.tif...\n",
      "Calculating metrics for Sepal_22.tif...\n",
      "Calculating metrics for Sepal_23.tif...\n",
      "Calculating metrics for Sepal_24.tif...\n",
      "Calculating metrics for Sepal_25.tif...\n",
      "Calculating metrics for Sepal_26.tif...\n",
      "Calculating metrics for Sepal_27.tif...\n",
      "Calculating metrics for Sepal_28.tif...\n",
      "Calculating metrics for Sepal_29.tif...\n",
      "Calculating metrics for Sepal_30.tif...\n",
      "Calculating metrics for Sepal_31.tif...\n",
      "Calculating metrics for Sepal_32.tif...\n",
      "Calculating metrics for Sepal_33.tif...\n",
      "Calculating metrics for Sepal_34.tif...\n",
      "Calculating metrics for Sepal_35.tif...\n",
      "Calculating metrics for Sepal_36.tif...\n",
      "Calculating metrics for Sepal_37.tif...\n",
      "Calculating metrics for Sepal_38.tif...\n",
      "Calculating metrics for Sepal_39.tif...\n",
      "Calculating metrics for Sepal_40.tif...\n",
      "Calculating metrics for Sepal_41.tif...\n",
      "Calculating metrics for Sepal_42.tif...\n",
      "Calculating metrics for Sepal_43.tif...\n",
      "Calculating metrics for Sepal_44.tif...\n",
      "Calculating metrics for Sepal_45.tif...\n",
      "Calculating metrics for Sepal_46.tif...\n",
      "Calculating metrics for Sepal_47.tif...\n",
      "Calculating metrics for Sepal_48.tif...\n",
      "Calculating metrics for Sepal_49.tif...\n",
      "Calculating metrics for Valve_20.tif...\n",
      "Calculating metrics for Valve_21.tif...\n",
      "Calculating metrics for Valve_22.tif...\n",
      "Calculating metrics for Valve_23.tif...\n",
      "Calculating metrics for Valve_24.tif...\n",
      "Calculating metrics for Valve_25.tif...\n",
      "Calculating metrics for Valve_26.tif...\n",
      "Calculating metrics for Valve_27.tif...\n",
      "Calculating metrics for Valve_28.tif...\n",
      "Calculating metrics for Valve_29.tif...\n",
      "Calculating metrics for Valve_30.tif...\n",
      "Calculating metrics for Valve_31.tif...\n",
      "Calculating metrics for Valve_32.tif...\n",
      "Calculating metrics for Valve_33.tif...\n",
      "Calculating metrics for Valve_34.tif...\n",
      "Calculating metrics for Valve_35.tif...\n",
      "Calculating metrics for Valve_36.tif...\n",
      "Calculating metrics for Valve_37.tif...\n",
      "Calculating metrics for Valve_38.tif...\n",
      "Calculating metrics for Valve_39.tif...\n",
      "Calculating metrics for Valve_40.tif...\n",
      "Calculating metrics for Valve_41.tif...\n",
      "Calculating metrics for Valve_42.tif...\n",
      "Calculating metrics for Valve_43.tif...\n",
      "Calculating metrics for Valve_44.tif...\n",
      "Calculating metrics for Valve_45.tif...\n",
      "Calculating metrics for Valve_46.tif...\n",
      "Calculating metrics for Valve_47.tif...\n",
      "Calculating metrics for Valve_48.tif...\n",
      "Calculating metrics for Valve_49.tif...\n"
     ]
    }
   ],
   "source": [
    "metrics_list = []\n",
    "\n",
    "for region in regions:\n",
    "    mask_path = os.path.join('../data/plant_atlas/{}_masks'.format(region))\n",
    "    res_path = os.path.join('results', region)\n",
    "    fnames = [\n",
    "        f for f in sorted(os.listdir(mask_path))\n",
    "        if f[-3:] == 'tif'\n",
    "    ]\n",
    "    \n",
    "    metrics = np.zeros((len(fnames), 7))\n",
    "\n",
    "    for i, fname in enumerate(fnames):\n",
    "        print('Calculating metrics for {}...'.format(fname))\n",
    "        y_pred = tifffile.imread(os.path.join(res_path, 'instances_' + fname)).astype(np.int64)\n",
    "        y_true = tifffile.imread(os.path.join(mask_path, fname)).astype(np.int64)\n",
    "\n",
    "        assert y_pred.shape == y_true.shape, \"Inconsistent shapes btw ground-truth & predictions\"\n",
    "\n",
    "        ap25 = evaluation.average_precision(y_true, y_pred, 0.25)[0]\n",
    "        ap75 = evaluation.average_precision(y_true, y_pred, 0.75)[0]\n",
    "        ap50, tp, fp, fn = evaluation.average_precision(y_true, y_pred, 0.5)\n",
    "        mAP = np.mean([ap25, ap50, ap75])\n",
    "        prec, recall, f1 = tp/(tp+fp), tp/(tp+fn), tp/(tp+0.5*(fp+fn))\n",
    "\n",
    "        metrics[i] = [prec, recall, f1, ap25, ap50, ap75, mAP]\n",
    "        gc.collect()\n",
    "        \n",
    "    metrics_df = pd.DataFrame(metrics, index=fnames, columns=['prec', 'recall', 'f1', 'AP25', 'AP50', 'AP75', 'mAP'])\n",
    "    metrics_list.append(metrics_df)\n",
    "    \n",
    "del y_true, y_pred, ap25, ap50, ap75, tp, fp, fn, prec, recall, f1, fnames, mask_path\n"
   ]
  },
  {
   "cell_type": "code",
   "execution_count": 14,
   "id": "977edfd2-5c8a-46d2-a877-4e963331d29a",
   "metadata": {},
   "outputs": [
    {
     "name": "stdout",
     "output_type": "stream",
     "text": [
      "Metrics for Anther:\n",
      "\n",
      "Mean:\n"
     ]
    },
    {
     "data": {
      "text/plain": [
       "prec      0.452490\n",
       "recall    0.544998\n",
       "f1        0.487597\n",
       "AP25      0.510258\n",
       "AP50      0.327520\n",
       "AP75      0.168433\n",
       "mAP       0.335404\n",
       "dtype: float64"
      ]
     },
     "metadata": {},
     "output_type": "display_data"
    },
    {
     "name": "stdout",
     "output_type": "stream",
     "text": [
      "\n",
      "Std:\n"
     ]
    },
    {
     "data": {
      "text/plain": [
       "prec      0.112868\n",
       "recall    0.106887\n",
       "f1        0.095653\n",
       "AP25      0.060444\n",
       "AP50      0.083998\n",
       "AP75      0.078257\n",
       "mAP       0.065507\n",
       "dtype: float64"
      ]
     },
     "metadata": {},
     "output_type": "display_data"
    },
    {
     "name": "stdout",
     "output_type": "stream",
     "text": [
      "\n",
      "\n",
      "\n",
      "Metrics for Filament:\n",
      "\n",
      "Mean:\n"
     ]
    },
    {
     "data": {
      "text/plain": [
       "prec      0.134564\n",
       "recall    0.295696\n",
       "f1        0.182290\n",
       "AP25      0.280550\n",
       "AP50      0.101362\n",
       "AP75      0.034429\n",
       "mAP       0.138780\n",
       "dtype: float64"
      ]
     },
     "metadata": {},
     "output_type": "display_data"
    },
    {
     "name": "stdout",
     "output_type": "stream",
     "text": [
      "\n",
      "Std:\n"
     ]
    },
    {
     "data": {
      "text/plain": [
       "prec      0.048700\n",
       "recall    0.090298\n",
       "f1        0.057469\n",
       "AP25      0.057328\n",
       "AP50      0.035237\n",
       "AP75      0.019724\n",
       "mAP       0.032747\n",
       "dtype: float64"
      ]
     },
     "metadata": {},
     "output_type": "display_data"
    },
    {
     "name": "stdout",
     "output_type": "stream",
     "text": [
      "\n",
      "\n",
      "\n",
      "Metrics for Leaf:\n",
      "\n",
      "Mean:\n"
     ]
    },
    {
     "data": {
      "text/plain": [
       "prec      0.366668\n",
       "recall    0.741859\n",
       "f1        0.481666\n",
       "AP25      0.421222\n",
       "AP50      0.326972\n",
       "AP75      0.249179\n",
       "mAP       0.332458\n",
       "dtype: float64"
      ]
     },
     "metadata": {},
     "output_type": "display_data"
    },
    {
     "name": "stdout",
     "output_type": "stream",
     "text": [
      "\n",
      "Std:\n"
     ]
    },
    {
     "data": {
      "text/plain": [
       "prec      0.113579\n",
       "recall    0.183170\n",
       "f1        0.129285\n",
       "AP25      0.116250\n",
       "AP50      0.119105\n",
       "AP75      0.142049\n",
       "mAP       0.116721\n",
       "dtype: float64"
      ]
     },
     "metadata": {},
     "output_type": "display_data"
    },
    {
     "name": "stdout",
     "output_type": "stream",
     "text": [
      "\n",
      "\n",
      "\n",
      "Metrics for Pedicel:\n",
      "\n",
      "Mean:\n"
     ]
    },
    {
     "data": {
      "text/plain": [
       "prec      0.214186\n",
       "recall    0.406107\n",
       "f1        0.271992\n",
       "AP25      0.375617\n",
       "AP50      0.161472\n",
       "AP75      0.072738\n",
       "mAP       0.203275\n",
       "dtype: float64"
      ]
     },
     "metadata": {},
     "output_type": "display_data"
    },
    {
     "name": "stdout",
     "output_type": "stream",
     "text": [
      "\n",
      "Std:\n"
     ]
    },
    {
     "data": {
      "text/plain": [
       "prec      0.100804\n",
       "recall    0.115053\n",
       "f1        0.102454\n",
       "AP25      0.098863\n",
       "AP50      0.071236\n",
       "AP75      0.050357\n",
       "mAP       0.066922\n",
       "dtype: float64"
      ]
     },
     "metadata": {},
     "output_type": "display_data"
    },
    {
     "name": "stdout",
     "output_type": "stream",
     "text": [
      "\n",
      "\n",
      "\n",
      "Metrics for Sepal:\n",
      "\n",
      "Mean:\n"
     ]
    },
    {
     "data": {
      "text/plain": [
       "prec      0.492295\n",
       "recall    0.568914\n",
       "f1        0.516407\n",
       "AP25      0.532425\n",
       "AP50      0.351961\n",
       "AP75      0.152739\n",
       "mAP       0.345708\n",
       "dtype: float64"
      ]
     },
     "metadata": {},
     "output_type": "display_data"
    },
    {
     "name": "stdout",
     "output_type": "stream",
     "text": [
      "\n",
      "Std:\n"
     ]
    },
    {
     "data": {
      "text/plain": [
       "prec      0.119064\n",
       "recall    0.089202\n",
       "f1        0.080725\n",
       "AP25      0.085603\n",
       "AP50      0.073880\n",
       "AP75      0.053657\n",
       "mAP       0.058035\n",
       "dtype: float64"
      ]
     },
     "metadata": {},
     "output_type": "display_data"
    },
    {
     "name": "stdout",
     "output_type": "stream",
     "text": [
      "\n",
      "\n",
      "\n",
      "Metrics for Valve:\n",
      "\n",
      "Mean:\n"
     ]
    },
    {
     "data": {
      "text/plain": [
       "prec      0.649826\n",
       "recall    0.533767\n",
       "f1        0.584930\n",
       "AP25      0.600469\n",
       "AP50      0.415087\n",
       "AP75      0.211262\n",
       "mAP       0.408939\n",
       "dtype: float64"
      ]
     },
     "metadata": {},
     "output_type": "display_data"
    },
    {
     "name": "stdout",
     "output_type": "stream",
     "text": [
      "\n",
      "Std:\n"
     ]
    },
    {
     "data": {
      "text/plain": [
       "prec      0.063553\n",
       "recall    0.051174\n",
       "f1        0.050396\n",
       "AP25      0.057598\n",
       "AP50      0.050286\n",
       "AP75      0.048633\n",
       "mAP       0.044733\n",
       "dtype: float64"
      ]
     },
     "metadata": {},
     "output_type": "display_data"
    },
    {
     "name": "stdout",
     "output_type": "stream",
     "text": [
      "\n",
      "\n",
      "\n"
     ]
    }
   ],
   "source": [
    "for region, metrics_df in zip(regions, metrics_list):\n",
    "    print('Metrics for {}:\\n'.format(region))\n",
    "    print('Mean:')\n",
    "    display(metrics_df.mean(0))\n",
    "    print('\\nStd:')\n",
    "    display(metrics_df.std(0))\n",
    "    print('\\n\\n')\n",
    "    "
   ]
  },
  {
   "cell_type": "code",
   "execution_count": 8,
   "id": "2efef4c6-0c0a-489c-a749-3f5f662f7e93",
   "metadata": {},
   "outputs": [],
   "source": [
    "for i, region in enumerate(regions):\n",
    "    metrics_list[i].to_csv('results/{}_cp3d_variant.csv'.format(region), index=True)"
   ]
  },
  {
   "cell_type": "markdown",
   "id": "9e518a14-3b97-421f-ae90-eaaa67b03fbe",
   "metadata": {},
   "source": [
    "---"
   ]
  }
 ],
 "metadata": {
  "kernelspec": {
   "display_name": "Python 3 (ipykernel)",
   "language": "python",
   "name": "python3"
  },
  "language_info": {
   "codemirror_mode": {
    "name": "ipython",
    "version": 3
   },
   "file_extension": ".py",
   "mimetype": "text/x-python",
   "name": "python",
   "nbconvert_exporter": "python",
   "pygments_lexer": "ipython3",
   "version": "3.8.3"
  }
 },
 "nbformat": 4,
 "nbformat_minor": 5
}
