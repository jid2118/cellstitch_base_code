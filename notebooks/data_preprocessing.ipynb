{
 "cells": [
  {
   "cell_type": "code",
   "execution_count": 1,
   "id": "48c3a60f",
   "metadata": {},
   "outputs": [],
   "source": [
    "from cellstitch.utils import *\n",
    "import numpy as np\n",
    "import h5py\n",
    "from tifffile import tifffile"
   ]
  },
  {
   "cell_type": "markdown",
   "id": "1e43769d",
   "metadata": {},
   "source": [
    "# Cellpose3D MorphoGraphX"
   ]
  },
  {
   "cell_type": "code",
   "execution_count": 3,
   "id": "da3cb904",
   "metadata": {},
   "outputs": [],
   "source": [
    "filenames = set(get_filenames(\"../DATA/ATAS/raw/\"))\n",
    "train_filenames = []\n",
    "for file in os.listdir(\"../DATA/ATAS/cellpose_train/\"):\n",
    "    if file.endswith(\".npy_95.tif\"):\n",
    "        train_filenames.append(file[:-7])\n",
    "\n",
    "test_filenames = filenames - set(train_filenames)"
   ]
  },
  {
   "cell_type": "code",
   "execution_count": 4,
   "id": "b49431ae",
   "metadata": {},
   "outputs": [
    {
     "name": "stderr",
     "output_type": "stream",
     "text": [
      "/tmp/ipykernel_2455731/880311499.py:3: DeprecationWarning: <tifffile.imsave> is deprecated. Use tifffile.imwrite\n",
      "  tifffile.imsave(\n"
     ]
    }
   ],
   "source": [
    "for filename in test_filenames: \n",
    "    raw = np.load(\"../DATA/ATAS/raw/%s\" % filename)\n",
    "    tifffile.imsave(\n",
    "    '../DATA/ATAS/mgx/%s.tif' % filename[:-4], \n",
    "    raw\n",
    ")"
   ]
  },
  {
   "cell_type": "markdown",
   "id": "c13b5627",
   "metadata": {},
   "source": [
    "# Anistropic Raw Data and Labels"
   ]
  },
  {
   "cell_type": "code",
   "execution_count": null,
   "id": "6e16a1f1",
   "metadata": {},
   "outputs": [],
   "source": [
    "dataset_path = \"../DATA/ATAS/\""
   ]
  },
  {
   "cell_type": "code",
   "execution_count": 2,
   "id": "290b786b",
   "metadata": {},
   "outputs": [],
   "source": [
    "anisotropy = 2"
   ]
  },
  {
   "cell_type": "code",
   "execution_count": null,
   "id": "00739d07",
   "metadata": {},
   "outputs": [],
   "source": [
    "subsampled_path = \"../DATA/ATAS_10/\""
   ]
  },
  {
   "cell_type": "code",
   "execution_count": null,
   "id": "dbfb4441",
   "metadata": {},
   "outputs": [],
   "source": [
    "filenames = get_filenames(dataset_path + \"raw\")"
   ]
  },
  {
   "cell_type": "code",
   "execution_count": null,
   "id": "3a6f57ae",
   "metadata": {},
   "outputs": [],
   "source": [
    "for filename in filenames: \n",
    "    raw = np.load(\"%sraw/%s\" % (dataset_path, filename))\n",
    "    labels = np.load(\"%slabels/%s\" % (dataset_path, filename))\n",
    "    depth = raw.shape[0]\n",
    "    \n",
    "    subsampled_raw = [] \n",
    "    subsampled_labels = []\n",
    "    for i in range(0, depth, anisotropy):\n",
    "        subsampled_raw.append(raw[i])\n",
    "        subsampled_labels.append(labels[i])\n",
    "    \n",
    "    subsampled_raw = np.array(subsampled_raw) \n",
    "    subsampled_labels = np.array(subsampled_labels)\n",
    "    \n",
    "    np.save(\"%sraw/%s\" % (subsampled_path, filename), subsampled_raw)\n",
    "    np.save(\"%slabels/%s\" % (subsampled_path, filename), subsampled_labels)"
   ]
  },
  {
   "cell_type": "markdown",
   "id": "3a84748a",
   "metadata": {},
   "source": [
    "### Test Data for PlantSeg"
   ]
  },
  {
   "cell_type": "code",
   "execution_count": 8,
   "id": "d47869c7",
   "metadata": {},
   "outputs": [],
   "source": [
    "subsampled_plantseg_test_path = \"../DATA/ovules_subsampled/plantseg_test/\"\n",
    "plantseg_test_path = \"../DATA/ovules/plantseg_test/\""
   ]
  },
  {
   "cell_type": "code",
   "execution_count": 9,
   "id": "086d81f9",
   "metadata": {},
   "outputs": [],
   "source": [
    "test_filenames = [\"N_294_final_crop_ds2\", \n",
    "                 \"N_435_final_crop_ds2\",\n",
    "                 \"N_441_final_crop_ds2\",\n",
    "                 \"N_511_final_crop_ds2\",\n",
    "                 \"N_522_final_crop_ds2\",\n",
    "                 \"N_590_final_crop_ds2\",\n",
    "                 \"N_593_final_crop_ds2\"]"
   ]
  },
  {
   "cell_type": "code",
   "execution_count": 11,
   "id": "c35776e5",
   "metadata": {},
   "outputs": [],
   "source": [
    "for test_filename in test_filenames: \n",
    "    with h5py.File(\"%s/%s.h5\" % (plantseg_test_path, test_filename), \"r\") as f:\n",
    "        labels = f['label'][:]\n",
    "        raw = f['raw'][:]\n",
    "    \n",
    "    depth = raw.shape[0]\n",
    "    \n",
    "    subsampled_raw = [] \n",
    "    subsampled_labels = []\n",
    "    for i in range(0, depth, anisotropy):\n",
    "        subsampled_raw.append(raw[i])\n",
    "        subsampled_labels.append(labels[i])\n",
    "\n",
    "    subsampled_raw = np.array(subsampled_raw) \n",
    "    subsampled_labels = np.array(subsampled_labels)\n",
    "    \n",
    "    with h5py.File(\"%s/%s.h5\" % (subsampled_plantseg_test_path, test_filename), 'w') as hf:\n",
    "        hf.create_dataset(\"label\",  data=subsampled_labels)\n",
    "        hf.create_dataset(\"raw\",  data=subsampled_raw)"
   ]
  },
  {
   "cell_type": "markdown",
   "id": "7061983b",
   "metadata": {},
   "source": [
    "For plant data"
   ]
  },
  {
   "cell_type": "code",
   "execution_count": null,
   "id": "5ce02862",
   "metadata": {},
   "outputs": [],
   "source": [
    "datasets = [\"Anther\", \"Filament\", \"Pedicel\", \"Valve\", \"Leaf\", \"Sepal\"]"
   ]
  },
  {
   "cell_type": "code",
   "execution_count": null,
   "id": "0c791c76",
   "metadata": {},
   "outputs": [],
   "source": [
    "for dataset in datasets: \n",
    "    print(\"Starting %s ...\" % dataset)\n",
    "    for i in range(30, 100): \n",
    "        test_filename = \"%s_%02d\" % (dataset, i)\n",
    "        img = np.load(\"../DATA/%s/%s.npy\" % (dataset, test_filename))\n",
    "        labels = np.load('../DATA/%s/%s_masks.npy' % (dataset, test_filename))\n",
    "        \n",
    "        with h5py.File(\"../DATA/%s/plantseg_test/%s.h5\" % (dataset, test_filename), 'w') as hf:\n",
    "            hf.create_dataset(\"label\",  data=labels)\n",
    "            hf.create_dataset(\"raw\",  data=img)"
   ]
  },
  {
   "cell_type": "markdown",
   "id": "94fa1386",
   "metadata": {},
   "source": [
    "For ATAS"
   ]
  },
  {
   "cell_type": "code",
   "execution_count": 13,
   "id": "c13e0847",
   "metadata": {},
   "outputs": [],
   "source": [
    "filenames = set(get_filenames(\"../DATA/ATAS/raw/\"))\n",
    "train_filenames = []\n",
    "for file in os.listdir(\"../DATA/ATAS/cellpose_train/\"):\n",
    "    if file.endswith(\".npy_95.tif\"):\n",
    "        train_filenames.append(file[:-7])\n",
    "\n",
    "test_filenames = filenames - set(train_filenames)"
   ]
  },
  {
   "cell_type": "code",
   "execution_count": 16,
   "id": "4802f454",
   "metadata": {},
   "outputs": [
    {
     "name": "stdout",
     "output_type": "stream",
     "text": [
      "Starting ATAS ...\n",
      "Starting ATAS_5 ...\n"
     ]
    },
    {
     "ename": "OSError",
     "evalue": "Unable to create file (unable to open file: name = '../DATA/ATAS_5/plantseg_test/76hrs_plant1_trim-acylYFP.h5', errno = 2, error message = 'No such file or directory', flags = 13, o_flags = 242)",
     "output_type": "error",
     "traceback": [
      "\u001b[0;31m---------------------------------------------------------------------------\u001b[0m",
      "\u001b[0;31mOSError\u001b[0m                                   Traceback (most recent call last)",
      "Input \u001b[0;32mIn [16]\u001b[0m, in \u001b[0;36m<cell line: 2>\u001b[0;34m()\u001b[0m\n\u001b[1;32m      5\u001b[0m img \u001b[38;5;241m=\u001b[39m np\u001b[38;5;241m.\u001b[39mload(\u001b[38;5;124m\"\u001b[39m\u001b[38;5;124m../DATA/\u001b[39m\u001b[38;5;132;01m%s\u001b[39;00m\u001b[38;5;124m/raw/\u001b[39m\u001b[38;5;132;01m%s\u001b[39;00m\u001b[38;5;124m\"\u001b[39m \u001b[38;5;241m%\u001b[39m (dataset, test_filename))\n\u001b[1;32m      6\u001b[0m labels \u001b[38;5;241m=\u001b[39m np\u001b[38;5;241m.\u001b[39mload(\u001b[38;5;124m'\u001b[39m\u001b[38;5;124m../DATA/\u001b[39m\u001b[38;5;132;01m%s\u001b[39;00m\u001b[38;5;124m/labels/\u001b[39m\u001b[38;5;132;01m%s\u001b[39;00m\u001b[38;5;124m'\u001b[39m \u001b[38;5;241m%\u001b[39m (dataset, test_filename))\n\u001b[0;32m----> 8\u001b[0m \u001b[38;5;28;01mwith\u001b[39;00m h5py\u001b[38;5;241m.\u001b[39mFile(\u001b[38;5;124m\"\u001b[39m\u001b[38;5;124m../DATA/\u001b[39m\u001b[38;5;132;01m%s\u001b[39;00m\u001b[38;5;124m/plantseg_test/\u001b[39m\u001b[38;5;132;01m%s\u001b[39;00m\u001b[38;5;124m.h5\u001b[39m\u001b[38;5;124m\"\u001b[39m \u001b[38;5;241m%\u001b[39m (dataset, test_filename[\u001b[38;5;241m0\u001b[39m:\u001b[38;5;241m-\u001b[39m\u001b[38;5;241m4\u001b[39m]), \u001b[38;5;124m'\u001b[39m\u001b[38;5;124mw\u001b[39m\u001b[38;5;124m'\u001b[39m) \u001b[38;5;28;01mas\u001b[39;00m hf:\n\u001b[1;32m      9\u001b[0m     hf\u001b[38;5;241m.\u001b[39mcreate_dataset(\u001b[38;5;124m\"\u001b[39m\u001b[38;5;124mlabel\u001b[39m\u001b[38;5;124m\"\u001b[39m,  data\u001b[38;5;241m=\u001b[39mlabels)\n\u001b[1;32m     10\u001b[0m     hf\u001b[38;5;241m.\u001b[39mcreate_dataset(\u001b[38;5;124m\"\u001b[39m\u001b[38;5;124mraw\u001b[39m\u001b[38;5;124m\"\u001b[39m,  data\u001b[38;5;241m=\u001b[39mimg)\n",
      "File \u001b[0;32m~/anaconda3/envs/segmentation/lib/python3.8/site-packages/h5py/_hl/files.py:406\u001b[0m, in \u001b[0;36mFile.__init__\u001b[0;34m(self, name, mode, driver, libver, userblock_size, swmr, rdcc_nslots, rdcc_nbytes, rdcc_w0, track_order, **kwds)\u001b[0m\n\u001b[1;32m    404\u001b[0m \u001b[38;5;28;01mwith\u001b[39;00m phil:\n\u001b[1;32m    405\u001b[0m     fapl \u001b[38;5;241m=\u001b[39m make_fapl(driver, libver, rdcc_nslots, rdcc_nbytes, rdcc_w0, \u001b[38;5;241m*\u001b[39m\u001b[38;5;241m*\u001b[39mkwds)\n\u001b[0;32m--> 406\u001b[0m     fid \u001b[38;5;241m=\u001b[39m \u001b[43mmake_fid\u001b[49m\u001b[43m(\u001b[49m\u001b[43mname\u001b[49m\u001b[43m,\u001b[49m\u001b[43m \u001b[49m\u001b[43mmode\u001b[49m\u001b[43m,\u001b[49m\u001b[43m \u001b[49m\u001b[43muserblock_size\u001b[49m\u001b[43m,\u001b[49m\n\u001b[1;32m    407\u001b[0m \u001b[43m                   \u001b[49m\u001b[43mfapl\u001b[49m\u001b[43m,\u001b[49m\u001b[43m \u001b[49m\u001b[43mfcpl\u001b[49m\u001b[38;5;241;43m=\u001b[39;49m\u001b[43mmake_fcpl\u001b[49m\u001b[43m(\u001b[49m\u001b[43mtrack_order\u001b[49m\u001b[38;5;241;43m=\u001b[39;49m\u001b[43mtrack_order\u001b[49m\u001b[43m)\u001b[49m\u001b[43m,\u001b[49m\n\u001b[1;32m    408\u001b[0m \u001b[43m                   \u001b[49m\u001b[43mswmr\u001b[49m\u001b[38;5;241;43m=\u001b[39;49m\u001b[43mswmr\u001b[49m\u001b[43m)\u001b[49m\n\u001b[1;32m    410\u001b[0m \u001b[38;5;28;01mif\u001b[39;00m \u001b[38;5;28misinstance\u001b[39m(libver, \u001b[38;5;28mtuple\u001b[39m):\n\u001b[1;32m    411\u001b[0m     \u001b[38;5;28mself\u001b[39m\u001b[38;5;241m.\u001b[39m_libver \u001b[38;5;241m=\u001b[39m libver\n",
      "File \u001b[0;32m~/anaconda3/envs/segmentation/lib/python3.8/site-packages/h5py/_hl/files.py:179\u001b[0m, in \u001b[0;36mmake_fid\u001b[0;34m(name, mode, userblock_size, fapl, fcpl, swmr)\u001b[0m\n\u001b[1;32m    177\u001b[0m     fid \u001b[38;5;241m=\u001b[39m h5f\u001b[38;5;241m.\u001b[39mcreate(name, h5f\u001b[38;5;241m.\u001b[39mACC_EXCL, fapl\u001b[38;5;241m=\u001b[39mfapl, fcpl\u001b[38;5;241m=\u001b[39mfcpl)\n\u001b[1;32m    178\u001b[0m \u001b[38;5;28;01melif\u001b[39;00m mode \u001b[38;5;241m==\u001b[39m \u001b[38;5;124m'\u001b[39m\u001b[38;5;124mw\u001b[39m\u001b[38;5;124m'\u001b[39m:\n\u001b[0;32m--> 179\u001b[0m     fid \u001b[38;5;241m=\u001b[39m \u001b[43mh5f\u001b[49m\u001b[38;5;241;43m.\u001b[39;49m\u001b[43mcreate\u001b[49m\u001b[43m(\u001b[49m\u001b[43mname\u001b[49m\u001b[43m,\u001b[49m\u001b[43m \u001b[49m\u001b[43mh5f\u001b[49m\u001b[38;5;241;43m.\u001b[39;49m\u001b[43mACC_TRUNC\u001b[49m\u001b[43m,\u001b[49m\u001b[43m \u001b[49m\u001b[43mfapl\u001b[49m\u001b[38;5;241;43m=\u001b[39;49m\u001b[43mfapl\u001b[49m\u001b[43m,\u001b[49m\u001b[43m \u001b[49m\u001b[43mfcpl\u001b[49m\u001b[38;5;241;43m=\u001b[39;49m\u001b[43mfcpl\u001b[49m\u001b[43m)\u001b[49m\n\u001b[1;32m    180\u001b[0m \u001b[38;5;28;01melif\u001b[39;00m mode \u001b[38;5;241m==\u001b[39m \u001b[38;5;124m'\u001b[39m\u001b[38;5;124ma\u001b[39m\u001b[38;5;124m'\u001b[39m:\n\u001b[1;32m    181\u001b[0m     \u001b[38;5;66;03m# Open in append mode (read/write).\u001b[39;00m\n\u001b[1;32m    182\u001b[0m     \u001b[38;5;66;03m# If that fails, create a new file only if it won't clobber an\u001b[39;00m\n\u001b[1;32m    183\u001b[0m     \u001b[38;5;66;03m# existing one (ACC_EXCL)\u001b[39;00m\n\u001b[1;32m    184\u001b[0m     \u001b[38;5;28;01mtry\u001b[39;00m:\n",
      "File \u001b[0;32mh5py/_objects.pyx:54\u001b[0m, in \u001b[0;36mh5py._objects.with_phil.wrapper\u001b[0;34m()\u001b[0m\n",
      "File \u001b[0;32mh5py/_objects.pyx:55\u001b[0m, in \u001b[0;36mh5py._objects.with_phil.wrapper\u001b[0;34m()\u001b[0m\n",
      "File \u001b[0;32mh5py/h5f.pyx:108\u001b[0m, in \u001b[0;36mh5py.h5f.create\u001b[0;34m()\u001b[0m\n",
      "\u001b[0;31mOSError\u001b[0m: Unable to create file (unable to open file: name = '../DATA/ATAS_5/plantseg_test/76hrs_plant1_trim-acylYFP.h5', errno = 2, error message = 'No such file or directory', flags = 13, o_flags = 242)"
     ]
    }
   ],
   "source": [
    "datasets = [\"ATAS\",\"ATAS_5\", \"ATAS_10\"] \n",
    "for dataset in datasets: \n",
    "    print(\"Starting %s ...\" % dataset)\n",
    "    for test_filename in test_filenames: \n",
    "        img = np.load(\"../DATA/%s/raw/%s\" % (dataset, test_filename))\n",
    "        labels = np.load('../DATA/%s/labels/%s' % (dataset, test_filename))\n",
    "        \n",
    "        with h5py.File(\"../DATA/%s/plantseg_test/%s.h5\" % (dataset, test_filename[0:-4]), 'w') as hf:\n",
    "            hf.create_dataset(\"label\",  data=labels)\n",
    "            hf.create_dataset(\"raw\",  data=img)"
   ]
  },
  {
   "cell_type": "code",
   "execution_count": null,
   "id": "aa269cc8",
   "metadata": {},
   "outputs": [],
   "source": []
  }
 ],
 "metadata": {
  "kernelspec": {
   "display_name": "segmentation-aeolus",
   "language": "python",
   "name": "segmentation-aeolus"
  },
  "language_info": {
   "codemirror_mode": {
    "name": "ipython",
    "version": 3
   },
   "file_extension": ".py",
   "mimetype": "text/x-python",
   "name": "python",
   "nbconvert_exporter": "python",
   "pygments_lexer": "ipython3",
   "version": "3.8.13"
  }
 },
 "nbformat": 4,
 "nbformat_minor": 5
}
