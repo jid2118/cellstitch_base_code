{
 "cells": [
  {
   "cell_type": "markdown",
   "metadata": {},
   "source": [
    "## Example notebook for running CellStitch"
   ]
  },
  {
   "cell_type": "code",
   "execution_count": null,
   "metadata": {},
   "outputs": [],
   "source": [
    "import os\n",
    "import numpy as np\n",
    "import torch\n",
    "import tifffile\n",
    "from cellpose.models import Cellpose\n",
    "from skimage import io\n",
    "import matplotlib.pyplot as plt\n",
    "\n",
    "\n",
    "import h5py\n",
    "\n",
    "from cellstitch.pipeline import full_stitch"
   ]
  },
  {
   "cell_type": "code",
   "execution_count": null,
   "metadata": {},
   "outputs": [],
   "source": [
    "# Plotting specifications\n",
    "from matplotlib import rcParams\n",
    "from IPython.display import display\n",
    "rcParams.update({'font.size': 10})"
   ]
  },
  {
   "cell_type": "markdown",
   "metadata": {},
   "source": [
    "### (1). Load example pairs of raw image & ground-truth mask"
   ]
  },
  {
   "cell_type": "code",
   "execution_count": null,
   "metadata": {},
   "outputs": [],
   "source": [
    "# Fill in filename for raw image (including the paths)\n",
    "filename = 'Test_images/BFP_60.tif'\n",
    "# maskname = '<path>/<filename>'\n",
    "\n",
    "# Fill in on the path you would like to store the stitched mask\n",
    "output_path = 'output/'\n",
    "output_filename = 'BFP_60.npy'\n",
    "#Todo preprcessing: avy the image so 7 instead of 21 slices"
   ]
  },
  {
   "cell_type": "code",
   "execution_count": null,
   "metadata": {},
   "outputs": [],
   "source": [
    "def get_files(folder_path):\n",
    "    return [f for f in os.listdir(folder_path) if os.path.isfile(os.path.join(folder_path, f))]\n",
    "\n",
    "\n",
    "file_list= get_files(\"Test_images\")\n",
    "\n",
    "for file in file_list:\n",
    "    print(f\"doing {file}\")\n",
    "    pathName = f\"Test_images/{file}\"\n",
    "    tifffile.imread(pathName)\n",
    "\n",
    "    flow_threshold = 1\n",
    "    use_gpu = True if torch.cuda.is_available() else False\n",
    "    # print(use_gpu)\n",
    "    model = Cellpose(model_type='cyto3', gpu=use_gpu)\n",
    "    flow_threshold = 0.4\n",
    "\n",
    "    xy_masks, _, _, _ = model.eval([img], flow_threshold=flow_threshold, channels = [0,0])\n",
    "    xy_masks = np.array(xy_masks)\n",
    "    print(np.unique(xy_masks))\n",
    "    output_filename = f'{file}.npy'\n",
    "    print(output_filename)\n",
    "\n",
    "\n",
    "    np.save(os.path.join(output_path, output_filename), xy_masks)\n",
    "    image_mask = np.load(f\"output/{output_filename}\")\n",
    "\n",
    "    plt.figure(figsize=(10, 5))\n",
    "\n",
    "    for i in range(1):  # Show first 3 slices\n",
    "    # plt.subplot(1, 8, i + 1)\n",
    "        plt.imshow(image_mask[i], cmap=\"gray\")\n",
    "        plt.title(f\"{output_filename}\")\n",
    "        plt.axis(\"off\")\n",
    "\n",
    "    plt.show()\n",
    "    \n",
    "\n",
    "\n",
    "    \n",
    "\n",
    "\n",
    "    \n"
   ]
  },
  {
   "cell_type": "markdown",
   "metadata": {},
   "source": [
    "Example code snippet\n",
    "```python\n",
    "filename = '../data/plant_atlas/Anther/Anther_20.tif'\n",
    "maskname = '../data/plant_atlas/Anther_masks/Anther_20.tif'\n",
    "\n",
    "output_path = '../results/'\n",
    "if not os.exist(output_path):\n",
    "    os.makedirs(output_path, exist_ok=True)\n",
    "    \n",
    "output_filename = 'cellstitch_sample_pred.npy'\n",
    "```"
   ]
  },
  {
   "cell_type": "code",
   "execution_count": null,
   "metadata": {},
   "outputs": [],
   "source": [
    "# Load image & masks\n",
    "if filename[-3:] == 'npy':  # image in .npy format\n",
    "    img = np.load(filename)\n",
    "elif filename[-3:] == 'tif': # imagge in TIFF format\n",
    "    img = tifffile.imread(filename)\n",
    "else:\n",
    "    try:\n",
    "        img = io.imread(filename)\n",
    "    except:\n",
    "        raise IOError('Failed to load image {}'.format(filename))\n",
    "print(img.shape)\n",
    "# with open()\n",
    "\n",
    "# if maskname[-3:] == 'npy':  # image in .npy format\n",
    "#     mask = np.load(maskname)\n",
    "# elif filename[-3:] == 'tif': # imagge in TIFF format\n",
    "#     mask = tifffile.imread(maskname)\n",
    "# else:\n",
    "#     try:\n",
    "#         mask = io.imread(maskname)\n",
    "#     except:\n",
    "#         raise IOError('Failed to load image {}'.format(filename))\n"
   ]
  },
  {
   "cell_type": "code",
   "execution_count": null,
   "metadata": {},
   "outputs": [],
   "source": []
  },
  {
   "cell_type": "code",
   "execution_count": null,
   "metadata": {},
   "outputs": [],
   "source": [
    "\n",
    "with h5py.File(filename, 'r') as f:\n",
    "    # Access a dataset\n",
    "    # data = f['dataset_name'][:] \n",
    "\n",
    "    # # Access a group\n",
    "    # group = f['group_name']\n",
    "\n",
    "    # List all keys in the file\n",
    "    # array = f[\"raw\"][:]\n",
    "    # print(array)\n",
    "    # print(array.shape)\n",
    "    # print(list(f.keys()))\n",
    "    # print(type(f['label']))\n",
    "    img = np.array(f['raw'][:20])\n",
    "    print(img.shape)\n"
   ]
  },
  {
   "cell_type": "code",
   "execution_count": null,
   "metadata": {},
   "outputs": [],
   "source": [
    "import numpy as np\n",
    "from PIL import Image\n",
    "\n",
    "# Open the input image as numpy array, convert to greyscale and drop alpha\n",
    "npImage=np.array(Image.open(filename).convert(\"L\"))\n",
    "\n",
    "# Get brightness range - i.e. darkest and lightest pixels\n",
    "min=np.min(npImage)        # result=144\n",
    "max=np.max(npImage)        # result=216\n",
    "\n",
    "# Make a LUT (Look-Up Table) to translate image values\n",
    "LUT=np.zeros(256,dtype=np.uint8)\n",
    "LUT[min:max+1]=np.linspace(start=0,stop=255,num=(max-min)+1,endpoint=True,dtype=np.uint8)\n",
    "print(type(LUT[npImage]))\n",
    "\n",
    "print(LUT[npImage].shape)"
   ]
  },
  {
   "cell_type": "code",
   "execution_count": null,
   "metadata": {},
   "outputs": [],
   "source": [
    "plt.figure(figsize=(30, 15))\n",
    "#todo convert grayscale to colour here\n",
    "for i in range(3, 8):  # Show first 3 slices\n",
    "    plt.subplot(3, 8, i + 1)\n",
    "    plt.imshow(img[i], cmap=\"gray\")\n",
    "    plt.title(f\"Slice {i}\")\n",
    "    plt.axis(\"off\")\n",
    "\n",
    "plt.show()\n",
    "#if it's good, duplicaet it for each slice so the endpoint is the same dimensions"
   ]
  },
  {
   "cell_type": "code",
   "execution_count": null,
   "metadata": {},
   "outputs": [],
   "source": [
    "plt.figure(figsize=(20, 10))\n",
    "plt.imshow(npImage, cmap=\"gray\")\n",
    "plt.title(f\"Slice {i}\")\n",
    "plt.axis(\"off\")\n",
    "\n",
    "plt.show()"
   ]
  },
  {
   "cell_type": "markdown",
   "metadata": {},
   "source": [
    "### (2). Define configs & parameters"
   ]
  },
  {
   "cell_type": "code",
   "execution_count": null,
   "metadata": {},
   "outputs": [],
   "source": [
    "# load cellpose model for backbone segmentation\n",
    "# you can also replace with any 2D segmentation model that works the best for your dataset\n",
    "flow_threshold = 1\n",
    "use_gpu = True if torch.cuda.is_available() else False\n",
    "print(use_gpu)\n",
    "model = Cellpose(model_type='cyto2', gpu=use_gpu)\n",
    "flow_threshold = 0.4"
   ]
  },
  {
   "cell_type": "code",
   "execution_count": null,
   "metadata": {},
   "outputs": [],
   "source": [
    "xy_masks, _, _, _ = model.eval([img], flow_threshold=flow_threshold, channels = [0,0])\n",
    "xy_masks = np.array(xy_masks)\n",
    "print(np.unique(xy_masks))"
   ]
  },
  {
   "cell_type": "code",
   "execution_count": null,
   "metadata": {},
   "outputs": [],
   "source": [
    "output_filename = 'BFP_60_cyto2_cluster.npy'\n",
    "\n"
   ]
  },
  {
   "cell_type": "markdown",
   "metadata": {},
   "source": [
    "### (3). Run CellStitch"
   ]
  },
  {
   "cell_type": "code",
   "execution_count": null,
   "metadata": {},
   "outputs": [],
   "source": [
    "print(flow_threshold)\n",
    "# Should show object labels; if only [0], it's empty.\n",
    "\n",
    "yz_masks, _, _, _ = model.eval([img.transpose(1,0,2)], flow_threshold=flow_threshold, channels = [0,0])\n",
    "yz_masks = np.array(yz_masks).transpose(1,0,2)\n",
    "print(\"done yz\")\n",
    "\n",
    "xz_masks, _, _, _ = model.eval([img.transpose(2,1,0)], flow_threshold=flow_threshold, channels = [0,0])\n",
    "xz_masks = np.array(xz_masks).transpose(2,1,0)\n",
    "print(\"done xz\")\n",
    "\n",
    "cellstitch_masks = full_stitch(xy_masks, yz_masks, xz_masks)"
   ]
  },
  {
   "cell_type": "markdown",
   "metadata": {},
   "source": [
    "### (4). Save the Stitching results:"
   ]
  },
  {
   "cell_type": "code",
   "execution_count": null,
   "metadata": {},
   "outputs": [],
   "source": [
    "np.save(os.path.join(output_path, output_filename), xy_masks)\n"
   ]
  },
  {
   "cell_type": "code",
   "execution_count": null,
   "metadata": {},
   "outputs": [],
   "source": [
    "np.save(os.path.join(output_path, output_filename), cellstitch_masks)"
   ]
  },
  {
   "cell_type": "markdown",
   "metadata": {},
   "source": [
    "---"
   ]
  },
  {
   "cell_type": "code",
   "execution_count": null,
   "metadata": {},
   "outputs": [],
   "source": [
    "import numpy as np\n",
    "import matplotlib.pyplot as plt\n",
    "\n",
    "# Load the stitched masks"
   ]
  },
  {
   "cell_type": "code",
   "execution_count": null,
   "metadata": {},
   "outputs": [],
   "source": [
    "cellstitch_masks1 = np.load(\"output/60_nuclei_c2.npy\")\n",
    "cellstitch_masks2 = np.load(\"output/60_cyto3_c2.npy\")\n",
    "cellstitch_masks3 = np.load(\"output/h5_nuclei.npy\")\n",
    "cellstitch_masks4 = np.load(\"output/h5_cyto2.npy\")\n",
    "cellstitch_masks5 = np.load(\"output/h5_cyto3.npy\")"
   ]
  },
  {
   "cell_type": "code",
   "execution_count": null,
   "metadata": {},
   "outputs": [],
   "source": [
    "image_mask = np.load(\"output/tcell_T010.tif.npy\")"
   ]
  },
  {
   "cell_type": "code",
   "execution_count": null,
   "metadata": {},
   "outputs": [],
   "source": [
    "# # Print unique values to check detected masks\n",
    "# print(\"Unique labels in stitched mask:\", np.unique(cellstitch_masks1))  # If only [0], no masks detected\n",
    "# print(\"Unique labels in stitched mask:\", np.unique(cellstitch_masks2))  # If only [0], no masks detected\n",
    "# print(\"Unique labels in stitched mask:\", np.unique(cellstitch_masks3))  # If only [0], no masks detected\n",
    "# print(\"Unique labels in stitched mask:\", np.unique(cellstitch_masks4))  # If only [0], no masks detected\n",
    "# print(\"Unique labels in stitched mask:\", np.unique(cellstitch_masks5))  # If only [0], no masks detected\n",
    "\n",
    "# # Check shape\n",
    "# print(\"Shape of cellstitch_masks:\", cellstitch_masks.shape)  # Should be (21, 464, 500) if same as input\n",
    "\n",
    "# Plot a few slices\n",
    "# plt.figure(figsize=(15, 8))\n",
    "plt.figure(figsize=(30, 15))\n",
    "\n",
    "for i in range(1):  # Show first 3 slices\n",
    "    # plt.subplot(1, 8, i + 1)\n",
    "    plt.imshow(image_mask[i], cmap=\"gray\")\n",
    "    plt.title(f\"Slice {i}\")\n",
    "    plt.axis(\"off\")\n",
    "# plt.savefig(f\"output/{image_mask}.png\")\n",
    "plt.show()"
   ]
  },
  {
   "cell_type": "code",
   "execution_count": null,
   "metadata": {},
   "outputs": [],
   "source": [
    "plt.figure(figsize=(20, 10))\n",
    "plt.imshow(image_mask, cmap=\"gray\")\n",
    "plt.title(f\"Slice\")\n",
    "plt.axis(\"off\")\n",
    "\n",
    "plt.show()"
   ]
  },
  {
   "cell_type": "code",
   "execution_count": null,
   "metadata": {},
   "outputs": [],
   "source": [
    "import tifffile\n",
    "\n",
    "# Save as TIFF\n",
    "tifffile.imwrite(f\"C:/Users/bobei/OneDrive/Documents/school/college/research/cellstitch/stitched_mask.tif\", cellstitch_masks.astype(np.uint16))\n"
   ]
  },
  {
   "cell_type": "markdown",
   "metadata": {},
   "source": [
    "take the output and extract statitics (how many cells segmented; volume (???) of the cells (how many pixels per cell), distribution over entire population of cells; compute overalp in pixel assignment{?!?!?})\n",
    "3 time points; connect cells (how); overlay if the same; propagate labels throughout time; but cells move :(\n",
    "mimimise sum of shifts??????????? by computing distance ??????? and the sum of the pixels is the minimum distance (pick the one that moves the least) [non trivial problem yay] \n",
    "compute on t vs z and max project for each ?? (wait that might be not nothing)\n",
    "go from microscope file (czi) to tif"
   ]
  }
 ],
 "metadata": {
  "kernelspec": {
   "display_name": "Python 3",
   "language": "python",
   "name": "python3"
  },
  "language_info": {
   "codemirror_mode": {
    "name": "ipython",
    "version": 3
   },
   "file_extension": ".py",
   "mimetype": "text/x-python",
   "name": "python",
   "nbconvert_exporter": "python",
   "pygments_lexer": "ipython3",
   "version": "3.10.4"
  }
 },
 "nbformat": 4,
 "nbformat_minor": 4
}
