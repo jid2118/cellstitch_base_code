{
 "cells": [
  {
   "cell_type": "code",
   "execution_count": 1,
   "metadata": {},
   "outputs": [],
   "source": [
    "import pandas as pd"
   ]
  },
  {
   "cell_type": "code",
   "execution_count": 2,
   "metadata": {},
   "outputs": [],
   "source": [
    "method = 'plantseg'\n",
    "dataset = 'ovules'"
   ]
  },
  {
   "cell_type": "code",
   "execution_count": 3,
   "metadata": {},
   "outputs": [],
   "source": [
    "df = pd.read_csv(\"./results/%s/%s.csv\" % (dataset, method))"
   ]
  },
  {
   "cell_type": "code",
   "execution_count": 4,
   "metadata": {},
   "outputs": [
    {
     "data": {
      "text/html": [
       "<div>\n",
       "<style scoped>\n",
       "    .dataframe tbody tr th:only-of-type {\n",
       "        vertical-align: middle;\n",
       "    }\n",
       "\n",
       "    .dataframe tbody tr th {\n",
       "        vertical-align: top;\n",
       "    }\n",
       "\n",
       "    .dataframe thead th {\n",
       "        text-align: right;\n",
       "    }\n",
       "</style>\n",
       "<table border=\"1\" class=\"dataframe\">\n",
       "  <thead>\n",
       "    <tr style=\"text-align: right;\">\n",
       "      <th></th>\n",
       "      <th>filename</th>\n",
       "      <th>ap25</th>\n",
       "      <th>ap50</th>\n",
       "      <th>ap75</th>\n",
       "      <th>tp</th>\n",
       "      <th>fp</th>\n",
       "      <th>fn</th>\n",
       "      <th>precision</th>\n",
       "      <th>recall</th>\n",
       "    </tr>\n",
       "  </thead>\n",
       "  <tbody>\n",
       "    <tr>\n",
       "      <th>0</th>\n",
       "      <td>N_294_final_crop_ds2.npy</td>\n",
       "      <td>0.486771</td>\n",
       "      <td>0.386911</td>\n",
       "      <td>0.291625</td>\n",
       "      <td>3890</td>\n",
       "      <td>4671.0</td>\n",
       "      <td>1493.0</td>\n",
       "      <td>0.454386</td>\n",
       "      <td>0.722645</td>\n",
       "    </tr>\n",
       "    <tr>\n",
       "      <th>1</th>\n",
       "      <td>N_435_final_crop_ds2.npy</td>\n",
       "      <td>0.489533</td>\n",
       "      <td>0.404877</td>\n",
       "      <td>0.356108</td>\n",
       "      <td>1760</td>\n",
       "      <td>2256.0</td>\n",
       "      <td>331.0</td>\n",
       "      <td>0.438247</td>\n",
       "      <td>0.841703</td>\n",
       "    </tr>\n",
       "    <tr>\n",
       "      <th>2</th>\n",
       "      <td>N_441_final_crop_ds2.npy</td>\n",
       "      <td>0.393707</td>\n",
       "      <td>0.332483</td>\n",
       "      <td>0.295918</td>\n",
       "      <td>1564</td>\n",
       "      <td>2798.0</td>\n",
       "      <td>342.0</td>\n",
       "      <td>0.358551</td>\n",
       "      <td>0.820567</td>\n",
       "    </tr>\n",
       "    <tr>\n",
       "      <th>3</th>\n",
       "      <td>N_511_final_crop_ds2.npy</td>\n",
       "      <td>0.537102</td>\n",
       "      <td>0.456419</td>\n",
       "      <td>0.406360</td>\n",
       "      <td>1550</td>\n",
       "      <td>1558.0</td>\n",
       "      <td>288.0</td>\n",
       "      <td>0.498713</td>\n",
       "      <td>0.843308</td>\n",
       "    </tr>\n",
       "    <tr>\n",
       "      <th>4</th>\n",
       "      <td>N_522_final_crop_ds2.npy</td>\n",
       "      <td>0.439875</td>\n",
       "      <td>0.375503</td>\n",
       "      <td>0.340635</td>\n",
       "      <td>1680</td>\n",
       "      <td>2565.0</td>\n",
       "      <td>229.0</td>\n",
       "      <td>0.395760</td>\n",
       "      <td>0.880042</td>\n",
       "    </tr>\n",
       "    <tr>\n",
       "      <th>5</th>\n",
       "      <td>N_590_final_crop_ds2.npy</td>\n",
       "      <td>0.533014</td>\n",
       "      <td>0.465960</td>\n",
       "      <td>0.400958</td>\n",
       "      <td>1362</td>\n",
       "      <td>1306.0</td>\n",
       "      <td>255.0</td>\n",
       "      <td>0.510495</td>\n",
       "      <td>0.842301</td>\n",
       "    </tr>\n",
       "    <tr>\n",
       "      <th>6</th>\n",
       "      <td>N_593_final_crop_ds2.npy</td>\n",
       "      <td>0.531920</td>\n",
       "      <td>0.390267</td>\n",
       "      <td>0.317996</td>\n",
       "      <td>1620</td>\n",
       "      <td>1769.0</td>\n",
       "      <td>762.0</td>\n",
       "      <td>0.478017</td>\n",
       "      <td>0.680101</td>\n",
       "    </tr>\n",
       "  </tbody>\n",
       "</table>\n",
       "</div>"
      ],
      "text/plain": [
       "                   filename      ap25      ap50      ap75    tp      fp  \\\n",
       "0  N_294_final_crop_ds2.npy  0.486771  0.386911  0.291625  3890  4671.0   \n",
       "1  N_435_final_crop_ds2.npy  0.489533  0.404877  0.356108  1760  2256.0   \n",
       "2  N_441_final_crop_ds2.npy  0.393707  0.332483  0.295918  1564  2798.0   \n",
       "3  N_511_final_crop_ds2.npy  0.537102  0.456419  0.406360  1550  1558.0   \n",
       "4  N_522_final_crop_ds2.npy  0.439875  0.375503  0.340635  1680  2565.0   \n",
       "5  N_590_final_crop_ds2.npy  0.533014  0.465960  0.400958  1362  1306.0   \n",
       "6  N_593_final_crop_ds2.npy  0.531920  0.390267  0.317996  1620  1769.0   \n",
       "\n",
       "       fn  precision    recall  \n",
       "0  1493.0   0.454386  0.722645  \n",
       "1   331.0   0.438247  0.841703  \n",
       "2   342.0   0.358551  0.820567  \n",
       "3   288.0   0.498713  0.843308  \n",
       "4   229.0   0.395760  0.880042  \n",
       "5   255.0   0.510495  0.842301  \n",
       "6   762.0   0.478017  0.680101  "
      ]
     },
     "execution_count": 4,
     "metadata": {},
     "output_type": "execute_result"
    }
   ],
   "source": [
    "df"
   ]
  },
  {
   "cell_type": "code",
   "execution_count": 5,
   "metadata": {},
   "outputs": [
    {
     "name": "stderr",
     "output_type": "stream",
     "text": [
      "/tmp/ipykernel_2299203/3698961737.py:1: FutureWarning: Dropping of nuisance columns in DataFrame reductions (with 'numeric_only=None') is deprecated; in a future version this will raise TypeError.  Select only valid columns before calling the reduction.\n",
      "  df.mean()\n"
     ]
    },
    {
     "data": {
      "text/plain": [
       "ap25            0.487418\n",
       "ap50            0.401774\n",
       "ap75            0.344229\n",
       "tp           1918.000000\n",
       "fp           2417.571429\n",
       "fn            528.571429\n",
       "precision       0.447738\n",
       "recall          0.804381\n",
       "dtype: float64"
      ]
     },
     "execution_count": 5,
     "metadata": {},
     "output_type": "execute_result"
    }
   ],
   "source": [
    "df.mean()"
   ]
  },
  {
   "cell_type": "code",
   "execution_count": 6,
   "metadata": {},
   "outputs": [
    {
     "name": "stderr",
     "output_type": "stream",
     "text": [
      "/tmp/ipykernel_2299203/3390915376.py:1: FutureWarning: Dropping of nuisance columns in DataFrame reductions (with 'numeric_only=None') is deprecated; in a future version this will raise TypeError.  Select only valid columns before calling the reduction.\n",
      "  df.std()\n"
     ]
    },
    {
     "data": {
      "text/plain": [
       "ap25            0.054122\n",
       "ap50            0.046476\n",
       "ap75            0.046586\n",
       "tp            878.357558\n",
       "fp           1130.310113\n",
       "fn            462.045040\n",
       "precision       0.055142\n",
       "recall          0.073551\n",
       "dtype: float64"
      ]
     },
     "execution_count": 6,
     "metadata": {},
     "output_type": "execute_result"
    }
   ],
   "source": [
    "df.std()"
   ]
  },
  {
   "cell_type": "code",
   "execution_count": 7,
   "metadata": {},
   "outputs": [],
   "source": [
    "mAP = (df[\"ap25\"] + df[\"ap50\"] + df[\"ap75\"])/3"
   ]
  },
  {
   "cell_type": "code",
   "execution_count": 8,
   "metadata": {},
   "outputs": [
    {
     "data": {
      "text/plain": [
       "(0.41114015137789106, 0.045349976331997124)"
      ]
     },
     "execution_count": 8,
     "metadata": {},
     "output_type": "execute_result"
    }
   ],
   "source": [
    "mAP.mean(), mAP.std()"
   ]
  },
  {
   "cell_type": "code",
   "execution_count": null,
   "metadata": {},
   "outputs": [],
   "source": []
  }
 ],
 "metadata": {
  "kernelspec": {
   "display_name": "segmentation-aeolus",
   "language": "python",
   "name": "segmentation-aeolus"
  },
  "language_info": {
   "codemirror_mode": {
    "name": "ipython",
    "version": 3
   },
   "file_extension": ".py",
   "mimetype": "text/x-python",
   "name": "python",
   "nbconvert_exporter": "python",
   "pygments_lexer": "ipython3",
   "version": "3.8.13"
  }
 },
 "nbformat": 4,
 "nbformat_minor": 4
}
