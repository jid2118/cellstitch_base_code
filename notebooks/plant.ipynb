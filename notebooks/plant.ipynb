{
 "cells": [
  {
   "cell_type": "code",
   "execution_count": 1,
   "metadata": {},
   "outputs": [],
   "source": [
    "import tifffile\n",
    "import imageio\n",
    "from cellpose import models\n",
    "import numpy as np\n",
    "from cellstitch.pipeline import *\n",
    "from cellstitch.evaluation import *\n",
    "import pandas as pd\n",
    "import h5py"
   ]
  },
  {
   "cell_type": "code",
   "execution_count": 13,
   "metadata": {},
   "outputs": [],
   "source": [
    "dataset = \"Sepal\""
   ]
  },
  {
   "cell_type": "markdown",
   "metadata": {},
   "source": [
    "# Train cellpose model from scratch"
   ]
  },
  {
   "cell_type": "code",
   "execution_count": null,
   "metadata": {},
   "outputs": [],
   "source": [
    "for i in range(70): \n",
    "    filename = \"%s_%02d\" % (dataset, i)\n",
    "    img = np.load(\"../DATA/%s/%s.npy\" % (dataset, filename))\n",
    "    labels = np.load(\"../DATA/%s/%s_masks.npy\" % (dataset, filename))\n",
    "    depth = img.shape[0] \n",
    "    \n",
    "    for i in range(depth): \n",
    "        imageio.imwrite(\"../DATA/%s/cellpose_train/%s_%s.tif\" % (dataset, filename, i), img[i])\n",
    "        imageio.imwrite(\"../DATA/%s/cellpose_train/%s_%s_masks.tif\" % (dataset, filename, i), labels[i])"
   ]
  },
  {
   "cell_type": "markdown",
   "metadata": {},
   "source": [
    "`python -m cellpose --train --use_gpu --dir ../DATA/<dataset>/cellpose_train --pretrained_model None --n_epochs 100  --verbose`"
   ]
  },
  {
   "cell_type": "markdown",
   "metadata": {},
   "source": [
    "###  Generate cellpose3d results"
   ]
  },
  {
   "cell_type": "code",
   "execution_count": 3,
   "metadata": {},
   "outputs": [],
   "source": [
    "model_name = 'cellpose_residual_on_style_on_concatenation_off_cellpose_train_2023_05_30_20_25_23.614818'\n",
    "model_dir = '../DATA/%s/cellpose_train/models/%s' % (dataset, model_name) "
   ]
  },
  {
   "cell_type": "code",
   "execution_count": 4,
   "metadata": {},
   "outputs": [],
   "source": [
    "flow_threshold = 1\n",
    "model = models.CellposeModel(gpu=True, pretrained_model=model_dir)"
   ]
  },
  {
   "cell_type": "code",
   "execution_count": null,
   "metadata": {},
   "outputs": [],
   "source": [
    "for i in range(70, 100): \n",
    "    test_filename = \"%s_%02d\" % (dataset, i)\n",
    "    print(\"Starting %s\" % test_filename)\n",
    "    img = np.load(\"../DATA/%s/%s.npy\" % (dataset, test_filename))\n",
    "    masks, _, _ = model.eval(img, do_3D=True, flow_threshold=flow_threshold, channels = [0,0]) \n",
    "    np.save(\"./results/%s/cellpose3d/%s.npy\" % (dataset, test_filename), masks) "
   ]
  },
  {
   "cell_type": "markdown",
   "metadata": {},
   "source": [
    "### Generate cellpose2d results"
   ]
  },
  {
   "cell_type": "code",
   "execution_count": 5,
   "metadata": {},
   "outputs": [
    {
     "name": "stdout",
     "output_type": "stream",
     "text": [
      "Starting Valve_70\n",
      "Starting Valve_71\n",
      "Starting Valve_72\n",
      "Starting Valve_73\n",
      "Starting Valve_74\n",
      "Starting Valve_75\n",
      "Starting Valve_76\n",
      "Starting Valve_77\n",
      "Starting Valve_78\n",
      "Starting Valve_79\n",
      "Starting Valve_80\n",
      "Starting Valve_81\n",
      "Starting Valve_82\n",
      "Starting Valve_83\n",
      "Starting Valve_84\n",
      "Starting Valve_85\n",
      "Starting Valve_86\n",
      "Starting Valve_87\n",
      "Starting Valve_88\n",
      "Starting Valve_89\n",
      "Starting Valve_90\n",
      "Starting Valve_91\n",
      "Starting Valve_92\n",
      "Starting Valve_93\n",
      "Starting Valve_94\n",
      "Starting Valve_95\n",
      "Starting Valve_96\n",
      "Starting Valve_97\n",
      "Starting Valve_98\n",
      "Starting Valve_99\n"
     ]
    }
   ],
   "source": [
    "for i in range(70, 100): \n",
    "    test_filename = \"%s_%02d\" % (dataset, i)\n",
    "    print(\"Starting %s\" % test_filename)\n",
    "    img = np.load(\"../DATA/%s/%s.npy\" % (dataset, test_filename))\n",
    "    masks, _, _ = model.eval(list(img), do_3D=False, flow_threshold=flow_threshold, channels = [0,0])\n",
    "    masks = cp_utils.stitch3D(np.array(masks))\n",
    "\n",
    "    np.save(\"./results/%s/cellpose2d/%s.npy\" % (dataset, test_filename), masks) "
   ]
  },
  {
   "cell_type": "markdown",
   "metadata": {},
   "source": [
    "### Generate cellstitch results"
   ]
  },
  {
   "cell_type": "code",
   "execution_count": 6,
   "metadata": {},
   "outputs": [
    {
     "name": "stdout",
     "output_type": "stream",
     "text": [
      "Starting Valve_70\n",
      "Starting Valve_71\n",
      "Starting Valve_72\n",
      "Starting Valve_73\n",
      "Starting Valve_74\n",
      "Starting Valve_75\n",
      "Starting Valve_76\n",
      "Starting Valve_77\n",
      "Starting Valve_78\n",
      "Starting Valve_79\n",
      "Starting Valve_80\n",
      "Starting Valve_81\n",
      "Starting Valve_82\n",
      "Starting Valve_83\n",
      "Starting Valve_84\n",
      "Starting Valve_85\n",
      "Starting Valve_86\n",
      "Starting Valve_87\n",
      "Starting Valve_88\n",
      "Starting Valve_89\n",
      "Starting Valve_90\n",
      "Starting Valve_91\n",
      "Starting Valve_92\n",
      "Starting Valve_93\n",
      "Starting Valve_94\n",
      "Starting Valve_95\n",
      "Starting Valve_96\n",
      "Starting Valve_97\n",
      "Starting Valve_98\n",
      "Starting Valve_99\n"
     ]
    }
   ],
   "source": [
    "for i in range(70, 100): \n",
    "    test_filename = \"%s_%02d\" % (dataset, i)\n",
    "    print(\"Starting %s\" % test_filename)\n",
    "    img = np.load(\"../DATA/%s/%s.npy\" % (dataset, test_filename))\n",
    "    \n",
    "    cellstitch, _, _ = model.eval(list(img), flow_threshold=flow_threshold, channels = [0,0])\n",
    "    cellstitch = np.array(cellstitch)\n",
    "\n",
    "    yz_masks, _, _ = model.eval(list(img.transpose(1,0,2)), flow_threshold=flow_threshold, channels = [0,0])\n",
    "    yz_masks = np.array(yz_masks).transpose(1,0,2)\n",
    "\n",
    "    xz_masks, _, _ = model.eval(list(img.transpose(2,1,0)), flow_threshold=flow_threshold, channels = [0,0])\n",
    "    xz_masks = np.array(xz_masks).transpose(2,1,0)\n",
    "\n",
    "    full_stitch(cellstitch, yz_masks, xz_masks)\n",
    "    \n",
    "    np.save(\"./results/%s/cellstitch/%s.npy\" % (dataset, test_filename), cellstitch)  "
   ]
  },
  {
   "cell_type": "markdown",
   "metadata": {},
   "source": [
    "## PlantSeg\n",
    "### PlantSeg \n",
    "- First, created a plantseg virtual enviroment: \n",
    "    - `conda install -c conda-forge mamba` \n",
    "    - `mamba create -n plant-seg -c pytorch -c nvidia -c conda-forge -c lcerrone plantseg pytorch-cuda=11.7` \n",
    "- activate the environment: `conda activate plant-seg` \n",
    "- download the ovules test dataset: https://osf.io/uzq3w/ to `../DATA/<dataset>/plantseg_test/` \n",
    "- set the `path` in `config.yaml` to `../DATA/<dataset>/plantseg_test/` \n",
    "- perform segmentation with the `generic_confocal_3D_unet` by running `plantseg --config config.yaml`"
   ]
  },
  {
   "cell_type": "code",
   "execution_count": 3,
   "metadata": {},
   "outputs": [],
   "source": [
    "plantseg_results_folder = \"../DATA/%s/plantseg_test/PreProcessing/generic_confocal_3D_unet/MultiCut\" % dataset"
   ]
  },
  {
   "cell_type": "code",
   "execution_count": 4,
   "metadata": {},
   "outputs": [
    {
     "name": "stdout",
     "output_type": "stream",
     "text": [
      "Starting Filament_70\n",
      "Starting Filament_71\n",
      "Starting Filament_72\n",
      "Starting Filament_73\n",
      "Starting Filament_74\n",
      "Starting Filament_75\n",
      "Starting Filament_76\n",
      "Starting Filament_77\n",
      "Starting Filament_78\n",
      "Starting Filament_79\n",
      "Starting Filament_80\n",
      "Starting Filament_81\n",
      "Starting Filament_82\n",
      "Starting Filament_83\n",
      "Starting Filament_84\n",
      "Starting Filament_85\n",
      "Starting Filament_86\n",
      "Starting Filament_87\n",
      "Starting Filament_88\n",
      "Starting Filament_89\n",
      "Starting Filament_90\n",
      "Starting Filament_91\n",
      "Starting Filament_92\n",
      "Starting Filament_93\n",
      "Starting Filament_94\n",
      "Starting Filament_95\n",
      "Starting Filament_96\n",
      "Starting Filament_97\n",
      "Starting Filament_98\n",
      "Starting Filament_99\n"
     ]
    }
   ],
   "source": [
    "for i in range(70, 100): \n",
    "    test_filename = \"%s_%02d\" % (dataset, i)\n",
    "    print(\"Starting %s\" % test_filename)\n",
    "    \n",
    "    with h5py.File(\"%s/%s_predictions_multicut.h5\" % (plantseg_results_folder, test_filename), \"r\") as f:\n",
    "        plantseg = np.array(list(f['segmentation'])) \n",
    "        \n",
    "    plantseg[np.where(plantseg == 1)] = 0 # plantseg use 1 as labels\n",
    "    np.save(\"./results/%s/plantseg/%s.npy\" % (dataset, test_filename), plantseg)"
   ]
  },
  {
   "cell_type": "markdown",
   "metadata": {},
   "source": [
    "# Benchmark results"
   ]
  },
  {
   "cell_type": "code",
   "execution_count": 14,
   "metadata": {},
   "outputs": [],
   "source": [
    "methods = [\"plantseg\"]\n",
    "plantseg_results_folder = \"../DATA/%s/plantseg_test/PreProcessing/generic_confocal_3D_unet/MultiCut\" % dataset"
   ]
  },
  {
   "cell_type": "code",
   "execution_count": 15,
   "metadata": {},
   "outputs": [
    {
     "name": "stderr",
     "output_type": "stream",
     "text": [
      "/home/yining/anaconda3/envs/segmentation/lib/python3.8/site-packages/cellpose/metrics.py:205: RuntimeWarning: invalid value encountered in true_divide\n",
      "  iou = overlap / (n_pixels_pred + n_pixels_true - overlap)\n"
     ]
    }
   ],
   "source": [
    "for method in methods: \n",
    "    data = [] \n",
    "    for i in range(70, 100): \n",
    "        filename = \"%s_%02d\" % (dataset, i)\n",
    "        labels = np.load('../DATA/%s/%s_masks.npy' % (dataset, filename))\n",
    "        \n",
    "        with h5py.File(\"%s/%s_predictions_multicut.h5\" % (plantseg_results_folder, filename), \"r\") as f:\n",
    "            masks = np.array(list(f['segmentation'])) \n",
    "\n",
    "            masks[np.where(masks == 1)] = 0 # plantseg use 1 as labels\n",
    "\n",
    "        ap25, _, _, _ = average_precision(labels, masks, 0.25)\n",
    "        ap50, tp, fp, fn = average_precision(labels, masks, 0.5)\n",
    "        ap75, _, _, _ = average_precision(labels, masks, 0.75) \n",
    "        \n",
    "        precision = tp / (tp + fp)\n",
    "        recall = tp / (tp + fn)\n",
    "\n",
    "        row = [ \n",
    "            filename, \n",
    "            ap25,\n",
    "            ap50,\n",
    "            ap75,\n",
    "            tp, \n",
    "            fp, \n",
    "            fn, \n",
    "            precision,\n",
    "            recall\n",
    "        ]\n",
    "\n",
    "        data.append(row)\n",
    "\n",
    "    df = pd.DataFrame(data, columns=[\n",
    "        \"filename\",\n",
    "        \"ap25\", \n",
    "        \"ap50\",\n",
    "        \"ap75\", \n",
    "        \"tp\", \n",
    "        \"fp\", \n",
    "        \"fn\",\n",
    "        \"precision\",\n",
    "        \"recall\"\n",
    "    ])\n",
    "\n",
    "    df.to_csv(\"./results/%s/%s.csv\" % (dataset, method), index=False)"
   ]
  },
  {
   "cell_type": "code",
   "execution_count": null,
   "metadata": {},
   "outputs": [],
   "source": []
  }
 ],
 "metadata": {
  "kernelspec": {
   "display_name": "segmentation-aeolus",
   "language": "python",
   "name": "segmentation-aeolus"
  },
  "language_info": {
   "codemirror_mode": {
    "name": "ipython",
    "version": 3
   },
   "file_extension": ".py",
   "mimetype": "text/x-python",
   "name": "python",
   "nbconvert_exporter": "python",
   "pygments_lexer": "ipython3",
   "version": "3.8.13"
  }
 },
 "nbformat": 4,
 "nbformat_minor": 5
}
